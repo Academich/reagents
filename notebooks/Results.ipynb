{
 "cells": [
  {
   "cell_type": "code",
   "execution_count": null,
   "id": "47719cb9-edc5-4a7a-8ab4-188c2ac0f681",
   "metadata": {},
   "outputs": [],
   "source": [
    "import sys\n",
    "from pathlib import Path\n",
    "sys.path.append(\n",
    "    str(Path.cwd().parent.resolve())\n",
    ")"
   ]
  },
  {
   "cell_type": "code",
   "execution_count": null,
   "id": "61e1c174-1619-4293-b998-652a77958b2a",
   "metadata": {},
   "outputs": [],
   "source": [
    "import argparse\n",
    "import subprocess\n",
    "from multiprocessing import cpu_count\n",
    "from typing import List, Set\n",
    "\n",
    "import pandas as pd\n",
    "import numpy as np\n",
    "\n",
    "from rdkit import RDLogger\n",
    "from rdkit.Chem import rdChemReactions\n",
    "from rdkit.DataStructs.cDataStructs import ConvertToNumpyArray\n",
    "\n",
    "from openTSNE import TSNE\n",
    "\n",
    "import matplotlib.pyplot as plt\n",
    "import matplotlib\n",
    "import seaborn as sns\n",
    "\n",
    "import src.utils as ut\n",
    "from src import root\n",
    "from src.prediction import MTReagentPredictor, MTProductPredictor\n",
    "from src.preprocessing import HeuristicRoleClassifier, SOLVENTS"
   ]
  },
  {
   "cell_type": "code",
   "execution_count": null,
   "id": "e030dce8",
   "metadata": {},
   "outputs": [],
   "source": [
    "from IPython.display import display"
   ]
  },
  {
   "cell_type": "code",
   "execution_count": null,
   "id": "4c684027-cef8-4563-abf9-228fd8542544",
   "metadata": {},
   "outputs": [],
   "source": [
    "RDLogger.DisableLog('rdApp.*')"
   ]
  },
  {
   "cell_type": "code",
   "execution_count": null,
   "id": "b6d031a8-b33e-4eff-8355-7bf4e346deb9",
   "metadata": {},
   "outputs": [],
   "source": [
    "def remove_redundant_separators(smi: str) -> str:\n",
    "    \"\"\"\n",
    "    Removes trailing or repeated separators from a SMILES string\n",
    "    :param smi: A SMILES string encoding several molecules\n",
    "    :return: A SMILES string with no redundant separators\n",
    "    \"\"\"\n",
    "    return \".\".join([i for i in smi.split('.') if i != ''])\n",
    "\n",
    "\n",
    "def standardize_pd_pph3(smi: str) -> str:\n",
    "    \"\"\"\n",
    "    Replaces a Pd(PPh3)4 molecule with 5 separate species - one Pd and four PPh3\n",
    "    :param smi:\n",
    "    :return:\n",
    "    \"\"\"\n",
    "    united = \"c1ccc([PH](c2ccccc2)(c2ccccc2)[Pd]([PH](c2ccccc2)(c2ccccc2)c2ccccc2)([PH](c2ccccc2)(c2ccccc2)c2ccccc2)[PH](c2ccccc2)(c2ccccc2)c2ccccc2)cc1\"\n",
    "    split = \"[Pd].c1ccc(P(c2ccccc2)c2ccccc2)cc1.c1ccc(P(c2ccccc2)c2ccccc2)cc1.c1ccc(P(c2ccccc2)c2ccccc2)cc1.c1ccc(P(c2ccccc2)c2ccccc2)cc1\"\n",
    "    return smi.replace(united, split)\n",
    "\n",
    "\n",
    "def match_accuracy(tgt_and_pred: 'pd.Series', mode: str) -> List[int]:\n",
    "    \"\"\"\n",
    "    Calculates the accuracy of reagent predictions.\n",
    "    :param tgt_and_pred: The series, where the first row containts the target string,\n",
    "    and all the other contain predictions ordered by priority.\n",
    "    The function is meant to be applied to a DataFrame of shape (M, N+1), where M is the number of reactions\n",
    "    and N is the number of predictions.\n",
    "    :param mode: If it is 'exact', calculates exact match accuracy.\n",
    "    If it is 'partial', calculates partial match accuracy.\n",
    "    :return: List of zeros and ones of length N.\n",
    "    \"\"\"\n",
    "\n",
    "    def _exact_match(t_set: Set[str], p_set: Set[str]) -> bool:\n",
    "        return len(t_set.symmetric_difference(p_set)) == 0\n",
    "\n",
    "    def _partial_match(t_set: Set[str], p_set: Set[str]) -> bool:\n",
    "        return len(t_set & p_set) > 0\n",
    "\n",
    "    if mode == 'exact':\n",
    "        _match = _exact_match\n",
    "    elif mode == 'partial':\n",
    "        _match = _partial_match\n",
    "    else:\n",
    "        raise ValueError(f\"The only allowed values for the 'mode' argument are 'exact' and 'partial', not {mode}\")\n",
    "\n",
    "    tgt_mols, *pred_mols = tgt_and_pred\n",
    "    tgt_set = {s for s in tgt_mols.split(\".\") if s}\n",
    "    topn = {i + 1: False for i in range(len(pred_mols))}\n",
    "    for i, p in enumerate(pred_mols):\n",
    "        pred_set = {s for s in p.split(\".\") if s}\n",
    "        topn[i + 1] = topn.get(i, False) or _match(tgt_set, pred_set)\n",
    "    return [int(topn[i + 1]) for i in range(len(pred_mols))]\n",
    "\n",
    "\n",
    "def recall(tgt_and_pred: 'pd.Series') -> List[float]:\n",
    "    \"\"\"\n",
    "    Calculates the recall of reagent predictions.\n",
    "    :param tgt_and_pred: The series, where the first row containts the target string,\n",
    "    and all the other contain predictions ordered by priority.\n",
    "    The function is meant to be applied to a DataFrame of shape (M, N+1), where M is the number of reactions\n",
    "    and N is the number of predictions.\n",
    "    :param mode: If it is 'exact', calculates exact match accuracy.\n",
    "    If it is 'partial', calculates partial match accuracy.\n",
    "    :return: List of recall scores of length N.\n",
    "    \"\"\"\n",
    "\n",
    "    tgt_mols, *pred_mols = tgt_and_pred\n",
    "    tgt_set = {s for s in tgt_mols.split(\".\") if s}\n",
    "    tgt_set_orig_len = len(tgt_set)\n",
    "    topn = {i + 1: 0 for i in range(len(pred_mols))}\n",
    "    for i, p in enumerate(pred_mols):\n",
    "        pred_set = {s for s in p.split(\".\") if s}\n",
    "        tgt_set = tgt_set - pred_set\n",
    "        topn[i + 1] = 1 - len(tgt_set) / tgt_set_orig_len\n",
    "    return [topn[i + 1] for i in range(len(pred_mols))]\n",
    "\n",
    "\n",
    "def plot_confidence_distributions(confs: 'pd.Series', match: 'pd.Series'):\n",
    "    fig, ax = plt.subplots(ncols=2, nrows=1, sharey=True, figsize=(10, 10))\n",
    "\n",
    "    plt.sca(ax[0])\n",
    "    sns.violinplot(y=confs,\n",
    "                   scale=\"width\",\n",
    "                   ax=plt.gca())\n",
    "    plt.grid(axis='y')\n",
    "\n",
    "    plt.sca(ax[1])\n",
    "    sns.boxplot(x=match, y=confs, ax=plt.gca())\n",
    "    plt.grid(axis='y')\n",
    "\n",
    "    return fig, ax\n",
    "\n",
    "\n",
    "def plot_performance_across_classes(classes_col: 'pd.Series',\n",
    "                                    exact_accuracies: 'pd.DataFrame',\n",
    "                                    partial_accuracies: 'pd.DataFrame',\n",
    "                                    width: float = 0.2):\n",
    "    \"\"\"\n",
    "    Plots the performance of reagent prediction across reaction classes.\n",
    "    :param classes_col: The column with a reaction class name for each reaction\n",
    "    :param exact_accuracies: The dataframe with exact match accuracies.\n",
    "    Columns are thought to be ordered by priority in descending order.\n",
    "    :param partial_accuracies: The dataframe with partial match accuracies.\n",
    "    Columns are thought to be ordered by priority in descending order.\n",
    "    :param width: The width of bars to plot\n",
    "    :return:\n",
    "    \"\"\"\n",
    "    fig, ax = plt.subplots(nrows=2, ncols=1, sharex=True, sharey=False, figsize=(24, 12))\n",
    "\n",
    "    colors_exact = {1: \"#239b56\", 3: \"#58d68d\", 5: \"#abebc6\"}\n",
    "    colors_partial = {1: \"#922b21\", 3: \"#cd6155\", 5: \"#e6b0aa\"}\n",
    "\n",
    "    ascending_top_1_order = classes_col.value_counts().index\n",
    "    _accs_classes = pd.concat((classes_col, exact_accuracies, partial_accuracies), axis=1)\n",
    "    class_col = _accs_classes.columns[0]\n",
    "    for i in (5, 3, 1):\n",
    "        score_col = exact_accuracies.columns[i - 1]\n",
    "        ax[0].bar(\n",
    "            np.arange(len(ascending_top_1_order)),\n",
    "            _accs_classes.groupby(by=[class_col])[score_col].mean()[ascending_top_1_order],\n",
    "            width,\n",
    "            color=colors_exact[i],\n",
    "            alpha=1,\n",
    "            label=f\"Top-{i} exact\"\n",
    "        )\n",
    "        score_col = partial_accuracies.columns[i - 1]\n",
    "        ax[0].bar(\n",
    "            np.arange(len(ascending_top_1_order)) + width,\n",
    "            _accs_classes.groupby(by=[class_col])[score_col].mean()[ascending_top_1_order],\n",
    "            width,\n",
    "            color=colors_partial[i],\n",
    "            alpha=1,\n",
    "            label=f\"Top-{i} partial\"\n",
    "        )\n",
    "\n",
    "    ax[0].tick_params(length=0)\n",
    "    plt.sca(ax[0])\n",
    "    plt.legend()\n",
    "    plt.grid(axis='y', alpha=0.5)\n",
    "    plt.title(\n",
    "        \"Fraction of partial and perfect matches between the target sequence and the predicted sequence across reaction classes.\",\n",
    "        fontsize=16)\n",
    "\n",
    "    ax[1].bar(\n",
    "        np.arange(len(ascending_top_1_order)) + width / 2,\n",
    "        _accs_classes[class_col].value_counts(normalize=True)[ascending_top_1_order],\n",
    "        width,\n",
    "        color='b',\n",
    "        alpha=0.6,\n",
    "    )\n",
    "\n",
    "    ax[0].set_yticks(np.arange(0.0, 1.0, 0.1))\n",
    "\n",
    "    ax[1].tick_params(length=0)\n",
    "    plt.sca(ax[1])\n",
    "    plt.xticks(np.arange(len(ascending_top_1_order)) + width / 2, ascending_top_1_order, rotation=19, fontsize=14)\n",
    "\n",
    "    # plt.xticks(rotation=15)\n",
    "    plt.xlabel(None)\n",
    "    plt.grid(axis='y', alpha=0.5)\n",
    "    plt.title(\"Distribution of reaction classes in the test.\", fontsize=16)\n",
    "\n",
    "    fig.suptitle(\n",
    "        f\"Performance of the transformer model on the test set.\\nTest size: {test.shape[0]} reactions.\",\n",
    "        fontsize=16)"
   ]
  },
  {
   "cell_type": "code",
   "execution_count": null,
   "id": "380eb5cd-b444-44ea-9826-daf42871c388",
   "metadata": {},
   "outputs": [],
   "source": [
    "CLASS_COLORS = {\n",
    "    \"Acylation and related processes\": \"#C0392B\",\n",
    "    \"Heteroatom alkylation and arylation\": \"#E67E22\",\n",
    "    \"C-C bond formation\": \"#27AE60\",\n",
    "    \"Heterocycle formation\": \"#F1C40F\",\n",
    "    \"Protections\": \"#1186F3\",\n",
    "    \"Deprotections\": \"#707B7C\",\n",
    "    \"Reductions\": \"#40C4DE\",\n",
    "    \"Oxidations\": \"#DC40DE\",\n",
    "    \"Functional group interconversion (FGI)\": \"#CCAF1C\",\n",
    "    \"Functional group addition (FGA)\": \"#8E44AD\"\n",
    "}\n",
    "\n",
    "\n",
    "class ReactionFPS:\n",
    "    \"\"\"\n",
    "    Calculates reaction fingerprints using RDKit.\n",
    "    \"\"\"\n",
    "\n",
    "    FP_TYPES = {\"AtomPairFP\": rdChemReactions.FingerprintType.AtomPairFP,\n",
    "                \"MorganFP\": rdChemReactions.FingerprintType.MorganFP,\n",
    "                \"PatternFP\": rdChemReactions.FingerprintType.PatternFP,\n",
    "                \"RDKitFP\": rdChemReactions.FingerprintType.RDKitFP,\n",
    "                \"TopologicalTorsion\": rdChemReactions.FingerprintType.TopologicalTorsion\n",
    "                }\n",
    "\n",
    "    def calculate(self,\n",
    "                  rx_smi: str,\n",
    "                  fp_method: str,\n",
    "                  n_bits: int,\n",
    "                  fp_type: str,\n",
    "                  include_agents: bool,\n",
    "                  agent_weight: int,\n",
    "                  non_agent_weight: int,\n",
    "                  bit_ratio_agents: float = 0.2\n",
    "                  ) -> 'np.array':\n",
    "        \"\"\"\n",
    "        Calculates reaction fingerprints for a given reaction SMILES string.\n",
    "        More info on arguments: https://www.rdkit.org/docs/cppapi/structRDKit_1_1ReactionFingerprintParams.html\n",
    "        :param rx_smi: Reaction SMILES to calculate fingerprints for.\n",
    "        :param fp_method: 'structural' or 'difference'.\n",
    "        :param n_bits: Number of bits in the fingerprint vectors\n",
    "        :param fp_type: the algorithm for fingerprints, e.g. AtompairFP.\n",
    "        Be aware that only AtompairFP, TopologicalTorsion and MorganFP are supported in the difference fingerprint.\n",
    "        :param include_agents: a flag: include the agents of a reaction for fingerprint generation or not\n",
    "        :param agent_weight: if agents are included, agents could\n",
    "        be weighted compared to reactants and products in difference fingerprints.\n",
    "        :param non_agent_weight: in difference fingerprints weight factor for reactants and products compared to agents\n",
    "        :param bit_ratio_agents: in structural fingerprints it determines the ratio of bits of the agents in the fingerprint\n",
    "        :return: fingerprint vector (numpy array)\n",
    "        \"\"\"\n",
    "        # === Parameters section\n",
    "        params = rdChemReactions.ReactionFingerprintParams()\n",
    "        params.fpSize = n_bits\n",
    "        params.includeAgents = include_agents\n",
    "        params.fpType = self.FP_TYPES[fp_type]\n",
    "        # ===\n",
    "\n",
    "        rxn = rdChemReactions.ReactionFromSmarts(\n",
    "            rx_smi,\n",
    "            useSmiles=True)\n",
    "\n",
    "        arr = np.zeros((1,))\n",
    "        if fp_method == \"difference\":\n",
    "            params.agentWeight = agent_weight\n",
    "            params.nonAgentWeight = non_agent_weight\n",
    "            # NOTE: difference fingerprints are not binary\n",
    "            fps = rdChemReactions.CreateDifferenceFingerprintForReaction(rxn, params)\n",
    "\n",
    "        elif fp_method == \"structural\":\n",
    "            params.bitRatioAgents = bit_ratio_agents\n",
    "            # NOTE: structural fingerprints are binary\n",
    "            fps = rdChemReactions.CreateStructuralFingerprintForReaction(rxn, params)\n",
    "        else:\n",
    "            raise ValueError(\"Invalid fp_method. Allowed are 'difference' and 'structural'\")\n",
    "\n",
    "        ConvertToNumpyArray(fps, arr)\n",
    "        return arr\n",
    "\n",
    "\n",
    "def diff_fp(smi: str) -> 'np.array':\n",
    "    return ReactionFPS().calculate(smi,\n",
    "                                   fp_method=\"difference\",\n",
    "                                   n_bits=2048,\n",
    "                                   fp_type=\"MorganFP\",\n",
    "                                   include_agents=True,\n",
    "                                   agent_weight=1,\n",
    "                                   non_agent_weight=1)\n",
    "\n",
    "\n",
    "def plot_2d_distribution(x,\n",
    "                         y,\n",
    "                         save_path=None,\n",
    "                         ax=None,\n",
    "                         title=None,\n",
    "                         draw_legend=True,\n",
    "                         colors=None,\n",
    "                         legend_kwargs=None,\n",
    "                         label_order=None,\n",
    "                         **kwargs) -> None:\n",
    "    \"\"\"\n",
    "    Plots TSNE embeddings\n",
    "    \"\"\"\n",
    "    if ax is None:\n",
    "        _, ax = plt.subplots(figsize=(20, 20))\n",
    "\n",
    "    if title is not None:\n",
    "        ax.set_title(title)\n",
    "\n",
    "    plot_params = {\"alpha\": kwargs.get(\"alpha\", 0.6), \"s\": kwargs.get(\"s\", 1)}\n",
    "\n",
    "    # Create main plot\n",
    "    if label_order is not None:\n",
    "        assert all(np.isin(np.unique(y), label_order))\n",
    "        classes = [l for l in label_order if l in np.unique(y)]\n",
    "    else:\n",
    "        classes = np.unique(y)\n",
    "    if colors is None:\n",
    "        default_colors = matplotlib.rcParams[\"axes.prop_cycle\"]\n",
    "        colors = {k: v[\"color\"] for k, v in zip(classes, default_colors())}\n",
    "\n",
    "    point_colors = list(map(colors.get, y))\n",
    "\n",
    "    ax.scatter(x[:, 0], x[:, 1], c=point_colors, rasterized=True, **plot_params)\n",
    "\n",
    "    # Hide ticks and axis\n",
    "    ax.set_xticks([]), ax.set_yticks([]), ax.axis(\"off\")\n",
    "\n",
    "    if draw_legend:\n",
    "        legend_handles = [\n",
    "            matplotlib.lines.Line2D(\n",
    "                [],\n",
    "                [],\n",
    "                marker=\"s\",\n",
    "                color=\"w\",\n",
    "                markerfacecolor=colors[yi],\n",
    "                ms=10,\n",
    "                alpha=1,\n",
    "                linewidth=0,\n",
    "                label=yi,\n",
    "                markeredgecolor=\"k\",\n",
    "            )\n",
    "            for yi in classes\n",
    "        ]\n",
    "        legend_kwargs_ = dict(loc=\"best\", bbox_to_anchor=(1, 0.5), frameon=False, )\n",
    "        if legend_kwargs is not None:\n",
    "            legend_kwargs_.update(legend_kwargs)\n",
    "        ax.legend(handles=legend_handles, **legend_kwargs_)\n",
    "\n",
    "    if save_path is not None:\n",
    "        plt.savefig(save_path, dpi=300)\n",
    "    else:\n",
    "        plt.show()\n",
    "\n",
    "\n",
    "def plot_rxn_class_proportions(classes_in: 'pd.Series',\n",
    "                               classes_out: 'pd.Series',\n",
    "                               save_path=None) -> None:\n",
    "    \"\"\"\n",
    "    Plot the graph comparing the proportions of the ten reaction classes from USPTO 50K\n",
    "    between the in-distribution data and the out-of-distribution data.\n",
    "    :param save_path: Path to save the image.\n",
    "    :param classes_in: Proportions of reaction classes for the in-distribution data.\n",
    "    :param classes_out: Proportions of reaction classes for the out-of-distribution data.\n",
    "    :return:\n",
    "    \"\"\"\n",
    "\n",
    "    plt.figure(figsize=(10, 5))\n",
    "    width = 0.3\n",
    "\n",
    "    plt.bar(\n",
    "        np.arange(len(classes_in)),\n",
    "        classes_in,\n",
    "        width,\n",
    "        color='#abebc6',\n",
    "        alpha=1,\n",
    "        label=\"USPTO 50K\"\n",
    "    )\n",
    "    plt.bar(\n",
    "        np.arange(len(classes_in)) + width,\n",
    "        classes_out[classes_in.index],\n",
    "        width,\n",
    "        color='#cd6155',\n",
    "        alpha=1,\n",
    "        label=\"Reaxys Test\"\n",
    "    )\n",
    "    plt.legend()\n",
    "    plt.xticks(np.arange(len(classes_in)) + width / 2,\n",
    "               classes_in.index,\n",
    "               rotation=75,\n",
    "               fontsize=11)\n",
    "    plt.title(\"Proportion of reaction classes\")\n",
    "    plt.grid(axis='y')\n",
    "\n",
    "    plt.tight_layout()\n",
    "    if save_path is not None:\n",
    "        plt.savefig(save_path, dpi=300)\n",
    "    else:\n",
    "        plt.show()"
   ]
  },
  {
   "cell_type": "code",
   "execution_count": null,
   "id": "221acf8f-ad2a-4651-8471-c77e14552b92",
   "metadata": {},
   "outputs": [],
   "source": [
    "np.random.seed(123456)"
   ]
  },
  {
   "cell_type": "markdown",
   "id": "17b3b277-c1c0-4a79-938b-92a31483951d",
   "metadata": {},
   "source": [
    "### Arguments"
   ]
  },
  {
   "cell_type": "code",
   "execution_count": null,
   "id": "c3f74af3-e499-4ef4-8ec3-0f9783ed3f83",
   "metadata": {},
   "outputs": [],
   "source": [
    "USPTO50_PATH = \"../uspto50k.csv\"\n",
    "\n",
    "TEST_PATH = \"../data/raw/reaxys_test_full_nice_classes.csv\"\n",
    "VOCAB = \"../data/vocabs/reag_no_MIT_src_vocab.json\"\n",
    "MODEL = \"../experiments/trained_models/reag_no_MIT_model_step_80000_shared_voc.pt\"\n",
    "# MODEL = \"../experiments/trained_models/simple_tok_with_rep_aug_model_step_520000.pt\"\n",
    "RUN_NAME = \"reaxys_rgs_80k_test_full\"\n",
    "SRC_COLUMN = \"ReactionRgsSource\"\n",
    "GPU = 0"
   ]
  },
  {
   "cell_type": "markdown",
   "id": "e230f1b2-9821-4dfd-b9dd-a94ff316c11d",
   "metadata": {},
   "source": [
    "# Loading the test set and USPTO 50K for visual comparison"
   ]
  },
  {
   "cell_type": "code",
   "execution_count": null,
   "id": "dedff8b5-78e1-4b07-8570-bf6daf019b24",
   "metadata": {},
   "outputs": [],
   "source": [
    "# Data which is in-distribution to the training set\n",
    "data_in = pd.read_csv(\"../uspto50k.csv\")\n",
    "\n",
    "# Test data\n",
    "data_out = pd.read_csv(TEST_PATH).fillna('')"
   ]
  },
  {
   "cell_type": "code",
   "execution_count": null,
   "id": "c3bc1445-92b7-43a3-8c85-b8c3128e7da3",
   "metadata": {},
   "outputs": [],
   "source": [
    "stat_in = data_in[\"General class\"].value_counts(normalize=True)\n",
    "\n",
    "stat_out = data_out[\"General class\"].value_counts(normalize=True)"
   ]
  },
  {
   "cell_type": "code",
   "execution_count": null,
   "id": "415bc930-dc2c-4053-9187-f58bbc8e20ce",
   "metadata": {},
   "outputs": [],
   "source": [
    "stat_in"
   ]
  },
  {
   "cell_type": "code",
   "execution_count": null,
   "id": "ddd41056-3666-4802-bfc8-b19b138aa066",
   "metadata": {},
   "outputs": [],
   "source": [
    "stat_out"
   ]
  },
  {
   "cell_type": "markdown",
   "id": "e690edcc-68e7-4a60-8033-99da3c4cca6b",
   "metadata": {},
   "source": [
    "### Comparing reaction class proportions"
   ]
  },
  {
   "cell_type": "code",
   "execution_count": null,
   "id": "e50044c5-f862-49a3-bad6-da07692ce9d0",
   "metadata": {},
   "outputs": [],
   "source": [
    "plot_rxn_class_proportions(stat_in, stat_out)"
   ]
  },
  {
   "cell_type": "markdown",
   "id": "8da896d1-e18a-4c73-bed7-56a270843e15",
   "metadata": {},
   "source": [
    "### Comparing the TSNE embeddings of poins in USPTO50K and the test set"
   ]
  },
  {
   "cell_type": "code",
   "execution_count": null,
   "id": "6334d48e-0376-440b-9bc6-7f581bbc8455",
   "metadata": {},
   "outputs": [],
   "source": [
    "tsne = TSNE(\n",
    "        perplexity=30,\n",
    "        metric=\"euclidean\",\n",
    "        n_jobs=cpu_count(),\n",
    "        random_state=123456,\n",
    "        verbose=True\n",
    "    )"
   ]
  },
  {
   "cell_type": "code",
   "execution_count": null,
   "id": "ba04fc35-2a42-4bdd-81a1-4bf914443302",
   "metadata": {},
   "outputs": [],
   "source": [
    "fp_in = np.vstack(\n",
    "        data_in[\"Reaction\"].apply(diff_fp)\n",
    "    )\n",
    "embedding_in = tsne.fit(fp_in)"
   ]
  },
  {
   "cell_type": "markdown",
   "id": "cf25c890-fb2c-4e7d-9fd2-1d9f2cb555eb",
   "metadata": {},
   "source": [
    "TSNE is parametric here. It produces embeddings for the test reactions based on the embeddings of reactions in USPTO 50K."
   ]
  },
  {
   "cell_type": "code",
   "execution_count": null,
   "id": "8d7f9d46-959e-4d2f-9b91-7f750d6a8595",
   "metadata": {},
   "outputs": [],
   "source": [
    "fp_out = np.vstack(\n",
    "        data_out[\"FullR\"].apply(diff_fp)\n",
    "    )\n",
    "embedding_out = embedding_in.transform(fp_out)"
   ]
  },
  {
   "cell_type": "code",
   "execution_count": null,
   "id": "d1a8178c-d9f8-4c74-81ed-53426476dee1",
   "metadata": {},
   "outputs": [],
   "source": [
    "plot_2d_distribution(embedding_in,\n",
    "                     data_in[\"General class\"],\n",
    "                     colors=CLASS_COLORS,\n",
    "                     s=10, \n",
    "                     title=\"TSNE map of USPTO 50K\")"
   ]
  },
  {
   "cell_type": "code",
   "execution_count": null,
   "id": "545c2dc2-2f47-405f-abc1-34393b70a232",
   "metadata": {},
   "outputs": [],
   "source": [
    "plot_2d_distribution(embedding_out,\n",
    "                     data_out[\"General class\"],\n",
    "                     s=10,\n",
    "                     title=\"TSNE map of the test set\",\n",
    "                     colors={i: CLASS_COLORS.get(i, \"#00FF00\") for i in data_out[\"General class\"].unique()})"
   ]
  },
  {
   "cell_type": "code",
   "execution_count": null,
   "id": "d2945f45-7e34-4ecf-93e6-8bd6e78f26ba",
   "metadata": {},
   "outputs": [],
   "source": [
    "plot_2d_distribution(\n",
    "        np.vstack((embedding_in, embedding_out)),\n",
    "        np.array([\"USPTO 50K\"] * embedding_in.shape[0] + [\"Reaxys Test\"] * embedding_out.shape[0]),\n",
    "        title=\"TSNE maps of both USPTO 50K and the test set in overlap\"\n",
    "    )"
   ]
  },
  {
   "cell_type": "code",
   "execution_count": null,
   "id": "740ac57d-91b1-4437-af17-e599a59eac9f",
   "metadata": {},
   "outputs": [],
   "source": [
    "for c in CLASS_COLORS:\n",
    "    if c in data_in[\"General class\"].unique() and c in data_out[\"General class\"].unique():\n",
    "        _u = embedding_in[data_in[\"General class\"] == c]\n",
    "        _r = embedding_out[data_out[\"General class\"] == c]\n",
    "        both = np.vstack((_u, _r))\n",
    "        h = sns.jointplot(x=both[:, 0],\n",
    "                          y=both[:, 1],\n",
    "                          kind='scatter',\n",
    "                          alpha=0.7,\n",
    "                          palette=[\"#000000\", CLASS_COLORS[c]],\n",
    "                          hue=np.array([\"USPTO 50K\"] * _u.shape[0] + [\"Reaxys Test\"] * _r.shape[0]))\n",
    "        h.set_axis_labels(\"TSNE 1\", \"TSNE 2\")\n",
    "        plt.suptitle(f\"TSNE embeddings of points in USPTO 50K and the test set.\\nClass: {c}\")\n",
    "        plt.tight_layout()"
   ]
  },
  {
   "cell_type": "markdown",
   "id": "a0a9326f-e781-4113-9d52-05a7cc44d227",
   "metadata": {},
   "source": [
    "# Loading the test set for reagent prediction"
   ]
  },
  {
   "cell_type": "code",
   "execution_count": null,
   "id": "0232dab6-fc7f-4201-858a-6c518900f602",
   "metadata": {},
   "outputs": [],
   "source": [
    "PREDICT = True"
   ]
  },
  {
   "cell_type": "code",
   "execution_count": null,
   "id": "c8fbd7dc-8cac-440d-9667-2afff0c1a755",
   "metadata": {},
   "outputs": [],
   "source": [
    "test = pd.read_csv(TEST_PATH).fillna('')"
   ]
  },
  {
   "cell_type": "code",
   "execution_count": null,
   "id": "035765c5-a597-4861-9f63-1c710bf259ab",
   "metadata": {},
   "outputs": [],
   "source": [
    "test.head()"
   ]
  },
  {
   "cell_type": "code",
   "execution_count": null,
   "id": "e3df0418-2a18-45f1-8a26-fa53b6bcd26d",
   "metadata": {},
   "outputs": [],
   "source": [
    "test.shape"
   ]
  },
  {
   "cell_type": "code",
   "execution_count": null,
   "id": "9ab1ea16-c1b8-4c21-8c87-339bb9201ecc",
   "metadata": {},
   "outputs": [],
   "source": [
    "test[\"General class\"].value_counts(normalize=True)"
   ]
  },
  {
   "cell_type": "markdown",
   "id": "1d71879d-deef-4798-b852-ce451c7fd011",
   "metadata": {},
   "source": [
    "# Reagent prediction model"
   ]
  },
  {
   "cell_type": "markdown",
   "id": "9ee3d237-6141-4313-8046-f49a62ca5a51",
   "metadata": {},
   "source": [
    "The transformer predicts the reagents for a reaction in the form of a SMILES string. We trained our models to predict the reagents for the broad range of reactions without restrictions: the number of reagents and their particular roles are not predetermined. The model yields the output sequentially, token by token, treating the choice of a token as a multiclass classification problem and conditioning that choice on the input sequence and the previously decoded tokens. As we arranged the molecules in the target sequences in the training set by their roles in a reaction, the model is trained to first predict metal catalysts conditioned on the input sequence, if they are necessary, then redox agents conditioning on the input sequence and predicted catalysts, then acids and bases, then uncategorized molecules and ions like alkali metal cations, and finally solvents conditioned on everything mentioned. The solvents are the most interchangeable and they require the most context to predict. A similar reagent role ordering was also used in Gao et al. \\cite{Gao2018}."
   ]
  },
  {
   "cell_type": "code",
   "execution_count": null,
   "id": "20822463-593a-4fc4-801e-9993a2d692ce",
   "metadata": {},
   "outputs": [],
   "source": [
    "reag_predictor = MTReagentPredictor(\n",
    "        vocabulary_path=VOCAB,\n",
    "        model_path=MODEL,\n",
    "        tokenized_path=str((root / \"data\" / \"test\" / (\"src_\" + RUN_NAME)).with_suffix(\".txt\")),\n",
    "        output_path=str((root / \"experiments\" / \"results\" / RUN_NAME).with_suffix(\".txt\")),\n",
    "        beam_size=5,\n",
    "        n_best=5,\n",
    "        batch_size=32,\n",
    "        gpu=GPU\n",
    "    )"
   ]
  },
  {
   "cell_type": "code",
   "execution_count": null,
   "id": "27d61ef8-63cd-40bc-a88d-d257c70bd313",
   "metadata": {},
   "outputs": [],
   "source": [
    "%%time\n",
    "if PREDICT:\n",
    "    reag_predictor.predict(test[SRC_COLUMN])"
   ]
  },
  {
   "cell_type": "markdown",
   "id": "53fa1c88-454a-4fa2-8456-430d23a9927b",
   "metadata": {},
   "source": [
    "### Loading predictions"
   ]
  },
  {
   "cell_type": "code",
   "execution_count": null,
   "id": "6d8a7751-6dbf-4c90-b711-2434e6c4fa32",
   "metadata": {},
   "outputs": [],
   "source": [
    "reag_predictor.load_predictions()\n",
    "pred_rgs = reag_predictor.predictions\n",
    "pred_rgs_conf = reag_predictor.pred_probs"
   ]
  },
  {
   "cell_type": "markdown",
   "id": "097eca03-bd4f-4d47-9d4e-08f7975ffeab",
   "metadata": {},
   "source": [
    "### Cleaning up predictions a bit"
   ]
  },
  {
   "cell_type": "code",
   "execution_count": null,
   "id": "4b9ddea1-d3c4-44a5-94ec-b28078b1c24e",
   "metadata": {},
   "outputs": [],
   "source": [
    "for c in pred_rgs.columns:\n",
    "    pred_rgs[c] = pred_rgs[c].apply(remove_redundant_separators)\n",
    "    pred_rgs[c] = pred_rgs[c].apply(ut.IonAssembler.run)\n",
    "    pred_rgs[c] = pred_rgs[c].apply(standardize_pd_pph3)"
   ]
  },
  {
   "cell_type": "markdown",
   "id": "179e665a-ac12-46a1-88d3-235ab66641be",
   "metadata": {},
   "source": [
    "### Printing the number of predicted SMILES which are invalid"
   ]
  },
  {
   "cell_type": "markdown",
   "id": "71549e1a-ed62-468d-91d5-85c34ba6431c",
   "metadata": {},
   "source": [
    "The model captures the SMILES language structure nicely - ***practically*** all of the predictions of reagent models are valid SMILES strings. "
   ]
  },
  {
   "cell_type": "code",
   "execution_count": null,
   "id": "a4f9c45d-4d58-4c5b-bffc-18ae735839ad",
   "metadata": {},
   "outputs": [],
   "source": [
    "for c in pred_rgs.columns:\n",
    "    print(c, (pred_rgs[c] == '').sum())"
   ]
  },
  {
   "cell_type": "markdown",
   "id": "8e91f814-0f62-46e7-94ec-8aaf1f6b70cc",
   "metadata": {},
   "source": [
    "# Calculating accuracy"
   ]
  },
  {
   "cell_type": "markdown",
   "id": "761feec7-f6d9-43ff-b254-aab6e7ef26d1",
   "metadata": {},
   "source": [
    "We analyze the model's performance from several different perspectives:  \n",
    "  * Perfect match accuracy:   \n",
    "    The proportion of the predicted SMILES strings in which the molecules exactly match the groung truth molecules.\n",
    "  * Patial match accuracy:   \n",
    "    The proportion of the predicted SMILES strings in which at least one of the molecules is in the groung truth set. \n",
    "  * Precision (proportion of the predicted molecules present in the GT sequence) and recall (coverage of the ground truth sequence):   \n",
    "    **Not implemented - requires a higher overall score**"
   ]
  },
  {
   "cell_type": "code",
   "execution_count": null,
   "id": "76300b13-95ae-47f7-9351-bfac83e14e89",
   "metadata": {},
   "outputs": [],
   "source": [
    "rgs_and_predictions = pd.concat(\n",
    "        (test[\"Reagents\"],\n",
    "         pred_rgs),\n",
    "        axis=1\n",
    "    )\n",
    "rgs_and_predictions.head()"
   ]
  },
  {
   "cell_type": "markdown",
   "id": "2ed35b04-ec4f-4c07-b492-bbe4451da77a",
   "metadata": {},
   "source": [
    "### Exact match accuracy"
   ]
  },
  {
   "cell_type": "code",
   "execution_count": null,
   "id": "f53a8056-6e9c-4234-81af-81ba3d711d38",
   "metadata": {},
   "outputs": [],
   "source": [
    "topn_exact_match_acc = rgs_and_predictions.apply(\n",
    "        lambda x: match_accuracy(x, 'exact'),\n",
    "        axis=1\n",
    "    )\n",
    "topn_exact_match_acc = pd.DataFrame(topn_exact_match_acc.to_list())\n",
    "topn_exact_match_acc.columns = [f\"top_{i + 1}_exact\" for i in range(pred_rgs.shape[1])]\n",
    "\n",
    "print(\"Top-N exact match accuracy\")\n",
    "for c in topn_exact_match_acc.columns:\n",
    "    print(c, topn_exact_match_acc[c].mean())"
   ]
  },
  {
   "cell_type": "markdown",
   "id": "78bd6eaa-3362-469c-9da0-f2dd5c7b2fe8",
   "metadata": {},
   "source": [
    "### Partial match accuracy"
   ]
  },
  {
   "cell_type": "code",
   "execution_count": null,
   "id": "9320bb2e-1bd4-479e-9718-d208aae3af84",
   "metadata": {},
   "outputs": [],
   "source": [
    "topn_partial_match_acc = rgs_and_predictions.apply(\n",
    "        lambda x: match_accuracy(x, 'partial'),\n",
    "        axis=1\n",
    "    )\n",
    "topn_partial_match_acc = pd.DataFrame(topn_partial_match_acc.to_list())\n",
    "topn_partial_match_acc.columns = [f\"top_{i + 1}_partial\" for i in range(pred_rgs.shape[1])]\n",
    "\n",
    "print(\"Top-N partial match accuracy\")\n",
    "for c in topn_partial_match_acc.columns:\n",
    "    print(c, topn_partial_match_acc[c].mean())"
   ]
  },
  {
   "cell_type": "markdown",
   "id": "0611fc42-3851-4422-a36e-9dff1380a25a",
   "metadata": {},
   "source": [
    "### Recall"
   ]
  },
  {
   "cell_type": "code",
   "execution_count": null,
   "id": "b8a5aa9d-c4eb-4008-a5d3-a2fe53dff42e",
   "metadata": {},
   "outputs": [],
   "source": [
    "topn_recall = rgs_and_predictions.apply(\n",
    "        lambda x: recall(x),\n",
    "        axis=1\n",
    "    )\n",
    "topn_recall = pd.DataFrame(topn_recall.to_list())\n",
    "topn_recall.columns = [f\"top_{i + 1}_recall\" for i in range(pred_rgs.shape[1])]"
   ]
  },
  {
   "cell_type": "code",
   "execution_count": null,
   "id": "a0710f1d-7db1-4414-9eec-5bd0ea790cb9",
   "metadata": {},
   "outputs": [],
   "source": [
    "topn_recall"
   ]
  },
  {
   "cell_type": "code",
   "execution_count": null,
   "id": "fa32257e-8008-4bd5-af62-02736f1e8e03",
   "metadata": {},
   "outputs": [],
   "source": [
    "plt.plot(\n",
    "    topn_recall[\"top_5_recall\"].value_counts().sort_index(),\n",
    "    '--o',\n",
    ");"
   ]
  },
  {
   "cell_type": "code",
   "execution_count": null,
   "id": "bf897ee8-fb21-4588-b4f5-9a748d50e98a",
   "metadata": {},
   "outputs": [],
   "source": [
    "for c in topn_recall.columns:\n",
    "    print(c, (topn_recall[c] == 1).mean())"
   ]
  },
  {
   "cell_type": "markdown",
   "id": "0e5fd482-2c36-4b80-bd54-31d092b09ee2",
   "metadata": {},
   "source": [
    "### Accuracy without solvents"
   ]
  },
  {
   "cell_type": "code",
   "execution_count": null,
   "id": "e159a2dc-dc3d-42cc-9d3d-cf024b089b3e",
   "metadata": {},
   "outputs": [],
   "source": [
    "rgs_and_predictions"
   ]
  },
  {
   "cell_type": "code",
   "execution_count": null,
   "id": "9459e678-3b2d-4afb-b55c-6a81ab3d067f",
   "metadata": {},
   "outputs": [],
   "source": [
    "def remove_solvents(smi: str) -> str:\n",
    "    \"\"\"\n",
    "    Removes standard solvents from a sequence of molecules separated by dots \n",
    "    \"\"\"\n",
    "    return '.'.join([i for i in smi.split('.') if i not in SOLVENTS])"
   ]
  },
  {
   "cell_type": "code",
   "execution_count": null,
   "id": "1b773b3d-0447-42d0-bd86-5c84a705d0a9",
   "metadata": {},
   "outputs": [],
   "source": [
    "rgs_and_predictions_no_solvents = pd.DataFrame()\n",
    "for c in rgs_and_predictions.columns:\n",
    "    rgs_and_predictions_no_solvents[c] = rgs_and_predictions[c].apply(remove_solvents)"
   ]
  },
  {
   "cell_type": "code",
   "execution_count": null,
   "id": "284b1779-5e18-4da3-9474-ddad66f153d7",
   "metadata": {},
   "outputs": [],
   "source": [
    "rgs_and_predictions_no_solvents.head()"
   ]
  },
  {
   "cell_type": "code",
   "execution_count": null,
   "id": "48a56621-740a-4c4f-b020-8566ebd5d851",
   "metadata": {},
   "outputs": [],
   "source": [
    "topn_exact_match_acc_no_solvents = rgs_and_predictions_no_solvents.apply(\n",
    "        lambda x: match_accuracy(x, 'exact'),\n",
    "        axis=1\n",
    "    )\n",
    "topn_exact_match_acc_no_solvents = pd.DataFrame(topn_exact_match_acc_no_solvents.to_list())\n",
    "topn_exact_match_acc_no_solvents.columns = [f\"top_{i + 1}_exact\" for i in range(pred_rgs.shape[1])]"
   ]
  },
  {
   "cell_type": "code",
   "execution_count": null,
   "id": "e8d18a61-f8fa-417c-b0d9-63d985aa3e8b",
   "metadata": {},
   "outputs": [],
   "source": [
    "print(\"Top-N exact match accuracy\")\n",
    "for c in topn_exact_match_acc_no_solvents.columns:\n",
    "    print(c, topn_exact_match_acc_no_solvents[c].mean())"
   ]
  },
  {
   "cell_type": "code",
   "execution_count": null,
   "id": "de5406d5-7d97-451f-a730-c29f22dee56b",
   "metadata": {},
   "outputs": [],
   "source": [
    "topn_partial_match_acc_no_solvents = rgs_and_predictions_no_solvents.apply(\n",
    "        lambda x: match_accuracy(x, 'partial'),\n",
    "        axis=1\n",
    "    )\n",
    "topn_partial_match_acc_no_solvents = pd.DataFrame(topn_partial_match_acc_no_solvents.to_list())\n",
    "topn_partial_match_acc_no_solvents.columns = [f\"top_{i + 1}_partial\" for i in range(pred_rgs.shape[1])]\n",
    "print(\"Top-N partial match accuracy\")\n",
    "for c in topn_partial_match_acc_no_solvents.columns:\n",
    "    print(c, topn_partial_match_acc_no_solvents[c].mean())"
   ]
  },
  {
   "cell_type": "markdown",
   "id": "961815ff-5319-4e09-8454-5dce217aef61",
   "metadata": {},
   "source": [
    "# How many unique reactions have at least one reagent set predicted right?"
   ]
  },
  {
   "cell_type": "code",
   "execution_count": null,
   "id": "901fe940-150b-438c-ac29-8f15e3701216",
   "metadata": {},
   "outputs": [],
   "source": [
    "# Number of unique reactions in the test set\n",
    "test[\"ReactionRgsSource\"].nunique()"
   ]
  },
  {
   "cell_type": "code",
   "execution_count": null,
   "id": "22a4b330-0709-46d0-a0c8-639df84557c9",
   "metadata": {},
   "outputs": [],
   "source": [
    "# How many duplicates does every unique reaction have\n",
    "test[\"ReactionRgsSource\"].value_counts().value_counts().sort_index()"
   ]
  },
  {
   "cell_type": "code",
   "execution_count": null,
   "id": "a46479a9-ba0f-4c56-99be-6a1f1dfc2669",
   "metadata": {},
   "outputs": [],
   "source": [
    "unique_rxn_perf = pd.concat(\n",
    "    (\n",
    "        test[\"ReactionRgsSource\"], \n",
    "        topn_exact_match_acc,\n",
    "        topn_partial_match_acc\n",
    "    ), \n",
    "    axis=1\n",
    ").groupby(by=\"ReactionRgsSource\")"
   ]
  },
  {
   "cell_type": "code",
   "execution_count": null,
   "id": "50696fe9-f8b0-43af-b47b-ea519c6acb9f",
   "metadata": {},
   "outputs": [],
   "source": [
    "unique_rxn_perf[\"top_1_exact\"].max()"
   ]
  },
  {
   "cell_type": "code",
   "execution_count": null,
   "id": "27ca065a-0701-4f06-9ad3-a01fcbb8639a",
   "metadata": {},
   "outputs": [],
   "source": [
    "for c in topn_exact_match_acc.columns:\n",
    "    print(c, unique_rxn_perf[c].max().mean())\n",
    "print()  \n",
    "for c in topn_partial_match_acc.columns:\n",
    "    print(c, unique_rxn_perf[c].max().mean())"
   ]
  },
  {
   "cell_type": "markdown",
   "id": "e07794f0-6541-4127-8624-f4d8facbfa10",
   "metadata": {},
   "source": [
    "# Confidence of predictions"
   ]
  },
  {
   "cell_type": "code",
   "execution_count": null,
   "id": "4200cfdb-3acf-41c6-9d58-4bef122062c2",
   "metadata": {},
   "outputs": [],
   "source": [
    "fig, ax = plot_confidence_distributions(\n",
    "    pred_rgs_conf[\"p_reagents_1_conf\"],\n",
    "    topn_exact_match_acc[\"top_1_exact\"]\n",
    ")\n",
    "fig.suptitle(\"Distribution of the confidence scores of the model\")\n",
    "ax[0].set_title(\"Overall distribution of confidence scores\")\n",
    "ax[1].set_title(\"Confidence scores for reactions\\n predicted correctly and not\")\n",
    "ax[1].set_xlabel(\"Top-1 exact match\")\n",
    "ax[0].set_ylabel(\"Confidence of the first prediction\")\n",
    "ax[1].set_ylabel(None)\n",
    "ax[0].set_xlabel(\"Proportion of reactions\")\n",
    "plt.sca(ax[1])\n",
    "plt.show()"
   ]
  },
  {
   "cell_type": "markdown",
   "id": "42b5347e-520f-4cc0-a2c9-928edb20736a",
   "metadata": {},
   "source": [
    "# Performance across reaction classes"
   ]
  },
  {
   "cell_type": "code",
   "execution_count": null,
   "id": "e9e226ee-07e4-4f88-bdcc-366a8227829c",
   "metadata": {},
   "outputs": [],
   "source": [
    "plot_performance_across_classes(\n",
    "    test[\"General class\"], \n",
    "    topn_exact_match_acc, \n",
    "    topn_partial_match_acc\n",
    ")\n",
    "plt.show()"
   ]
  },
  {
   "cell_type": "markdown",
   "id": "120eba78-3072-4f7d-a0cd-19cad5475aa7",
   "metadata": {},
   "source": [
    "Correlates with the TSNE maps similarity of corresponding reaction classes"
   ]
  },
  {
   "cell_type": "markdown",
   "id": "31f4a717-60f0-465f-9ee9-69d9b99169dd",
   "metadata": {},
   "source": [
    "# Performance across reagent roles"
   ]
  },
  {
   "cell_type": "markdown",
   "id": "065f5798-6159-4303-9ad6-8b59a571934a",
   "metadata": {},
   "source": [
    "### Roles of the target reagents"
   ]
  },
  {
   "cell_type": "code",
   "execution_count": null,
   "id": "c559dc88-2f34-405d-93bb-11920b2723ff",
   "metadata": {},
   "outputs": [],
   "source": [
    "test_r_roles = pd.concat(\n",
    "        (\n",
    "            test[\"General class\"],\n",
    "            test[\"Reagents\"].apply(HeuristicRoleClassifier.classify_to_str).str.split(\"&\", expand=True)\n",
    "        ),\n",
    "        axis=1\n",
    "    )\n",
    "test_r_roles.columns = [\"General class\"] + [f\"tgt_{r}\" for r in HeuristicRoleClassifier.types]\n",
    "test_r_roles.head()"
   ]
  },
  {
   "cell_type": "code",
   "execution_count": null,
   "id": "3f15ed80-c746-415a-9394-9e235c763ab3",
   "metadata": {},
   "outputs": [],
   "source": [
    "test_r_roles.iloc[10000:10005]"
   ]
  },
  {
   "cell_type": "markdown",
   "id": "7e4cad7c-e2cc-4615-a49d-a9df74657f3a",
   "metadata": {},
   "source": [
    "### Roles of the predicted reagents for each of the N predictions"
   ]
  },
  {
   "cell_type": "code",
   "execution_count": null,
   "id": "375f8ff6-8d13-47e8-96d4-fa45af2ddaa3",
   "metadata": {},
   "outputs": [],
   "source": [
    "n = pred_rgs.shape[1]\n",
    "top_n_roles = {}\n",
    "for i in range(1, n + 1):\n",
    "    _temp = pred_rgs[f\"p_reagents_{i}\"].apply(\n",
    "        HeuristicRoleClassifier.classify_to_str\n",
    "    ).str.split(\"&\",\n",
    "                expand=True)\n",
    "    _temp.columns = [f\"pred_{r}\" for r in HeuristicRoleClassifier.types]\n",
    "    top_n_roles[i] = _temp"
   ]
  },
  {
   "cell_type": "code",
   "execution_count": null,
   "id": "cdff9264-f97e-4eaa-a02d-8b2191a9df70",
   "metadata": {},
   "outputs": [],
   "source": [
    "for i in top_n_roles:\n",
    "    print(f\"Pred {i}\")\n",
    "    display(top_n_roles[i].head())"
   ]
  },
  {
   "cell_type": "markdown",
   "id": "7dfdb95c-7faf-4895-a184-a00a6385e2c4",
   "metadata": {},
   "source": [
    "### Top-N exact match of predictions for each role"
   ]
  },
  {
   "cell_type": "code",
   "execution_count": null,
   "id": "55040fbb-9d5a-44a5-bb3e-a1dfb252e3b5",
   "metadata": {},
   "outputs": [],
   "source": [
    "role_performance = {}\n",
    "for r in HeuristicRoleClassifier.types:\n",
    "    \n",
    "    tgt_and_pred_roles = pd.concat(\n",
    "        [test_r_roles[f\"tgt_{r}\"]] + [top_n_roles[i][f\"pred_{r}\"] for i in range(1, n + 1)],\n",
    "        axis=1\n",
    "    )\n",
    "    perf = tgt_and_pred_roles.apply(\n",
    "        lambda x: match_accuracy(x, 'exact'),\n",
    "        axis=1\n",
    "    )\n",
    "    perf = pd.DataFrame(perf.to_list())\n",
    "    perf.columns = [f\"top_{i}_exact\" for i in range(1, n + 1)]\n",
    "    role_performance[r] = perf"
   ]
  },
  {
   "cell_type": "code",
   "execution_count": null,
   "id": "3121257f-7c04-4dee-8700-37f1f2516bf7",
   "metadata": {},
   "outputs": [],
   "source": [
    "role_perf_summary = {}\n",
    "for r in HeuristicRoleClassifier.types:\n",
    "    nonempty_target = test_r_roles[test_r_roles[f\"tgt_{r}\"] != ''].index\n",
    "    role_perf_summary[r] = {\n",
    "        \"Top-1\": role_performance[r][\"top_1_exact\"].mean(),\n",
    "        \"Top-1 non-empty GT\": role_performance[r].loc[nonempty_target][\"top_1_exact\"].mean(),\n",
    "        \"Top-5\": role_performance[r][\"top_5_exact\"].mean(),\n",
    "        \"Top-5 non-empty GT\": role_performance[r].loc[nonempty_target][\"top_5_exact\"].mean()\n",
    "    }"
   ]
  },
  {
   "cell_type": "code",
   "execution_count": null,
   "id": "279d699b-ee8d-42c5-9e59-8d0e3e6f96ce",
   "metadata": {},
   "outputs": [],
   "source": [
    "role_perf_summary"
   ]
  },
  {
   "cell_type": "code",
   "execution_count": null,
   "id": "a0819412-9cba-4921-adf4-59ce2bd2d62b",
   "metadata": {},
   "outputs": [],
   "source": [
    "role_perf_summary = pd.DataFrame.from_dict(role_perf_summary)\n",
    "role_perf_summary"
   ]
  },
  {
   "cell_type": "code",
   "execution_count": null,
   "id": "2d2f01d6-13de-4282-8457-1dc923627630",
   "metadata": {},
   "outputs": [],
   "source": [
    "role_perf_summary = role_perf_summary.T\n",
    "role_perf_summary"
   ]
  },
  {
   "cell_type": "code",
   "execution_count": null,
   "id": "9bbffa80-0d7f-44af-92fe-7dd4b8d329db",
   "metadata": {},
   "outputs": [],
   "source": [
    "plt.figure(figsize=(8, 8))\n",
    "sns.heatmap(role_perf_summary, annot=True, cmap=\"mako\", ax=plt.gca())\n",
    "plt.title(\n",
    "    \"Proportion of test examples on which the prediction\\nmatches the ground truth exactly in each reagent role.\",\n",
    "    fontsize=14)\n",
    "plt.yticks(rotation=0, fontsize=14)\n",
    "plt.xticks(fontsize=13)\n",
    "# plt.xticks(fontsize=16)\n",
    "plt.tight_layout()\n",
    "plt.show()"
   ]
  },
  {
   "cell_type": "markdown",
   "id": "79b85589-cc55-4a9a-93cd-0b3df2c6b496",
   "metadata": {},
   "source": [
    "# Performance on reaction classes vs reagent roles"
   ]
  },
  {
   "cell_type": "code",
   "execution_count": null,
   "id": "b31218f5-18b1-486a-bc77-8d7a41a1f4e1",
   "metadata": {},
   "outputs": [],
   "source": [
    "role_top_1_match_by_class = []\n",
    "role_top_1_match_by_class_nonempty = []\n",
    "role_nonempty_count = []\n",
    "\n",
    "for r in HeuristicRoleClassifier.types:\n",
    "    \n",
    "    # Stacking the groung truth reagents in one role against prediction performance on that role\n",
    "    _temp = pd.concat(\n",
    "        (\n",
    "            test_r_roles[[\"General class\", f\"tgt_{r}\"]], \n",
    "            role_performance[r]\n",
    "        ),\n",
    "        axis=1\n",
    "    )\n",
    "    # Need to be careful with empty GT\n",
    "    _temp[\"tgt_nonempty\"] = _temp[f\"tgt_{r}\"].apply(lambda x: x != '')\n",
    "    \n",
    "    # Proportion of matches by class\n",
    "    role_top_1_match_by_class.append(\n",
    "        _temp.groupby(by=\"General class\")[\"top_1_exact\"].mean()\n",
    "    )\n",
    "    \n",
    "    # Proportion of matches by class for nonempty GT\n",
    "    role_top_1_match_by_class_nonempty.append(\n",
    "        _temp[_temp[\"tgt_nonempty\"]].groupby(by=\"General class\")[\"top_1_exact\"].mean()\n",
    "    )\n",
    "    \n",
    "    # Number of nonempty GT per class\n",
    "    role_nonempty_count.append(\n",
    "        _temp.groupby(by=\"General class\")[\"tgt_nonempty\"].sum()\n",
    "    )\n",
    "\n",
    "# Concatenating information for each role    \n",
    "\n",
    "role_top_1_match_by_class = pd.concat(role_top_1_match_by_class, axis=1)\n",
    "role_top_1_match_by_class.columns = HeuristicRoleClassifier.types\n",
    "\n",
    "role_top_1_match_by_class_nonempty = pd.concat(role_top_1_match_by_class_nonempty, axis=1)\n",
    "role_top_1_match_by_class_nonempty.columns = HeuristicRoleClassifier.types\n",
    "\n",
    "role_nonempty_count = pd.concat(role_nonempty_count, axis=1)\n",
    "role_nonempty_count.columns = HeuristicRoleClassifier.types"
   ]
  },
  {
   "cell_type": "code",
   "execution_count": null,
   "id": "cc0bdaa0-afeb-4465-a397-01712869812e",
   "metadata": {},
   "outputs": [],
   "source": [
    "fig, ax = plt.subplots(ncols=3, nrows=1, sharey=True, figsize=(30, 12))\n",
    "angle = 45\n",
    "\n",
    "sns.heatmap(role_top_1_match_by_class, \n",
    "            annot=True, \n",
    "            ax=ax[0], \n",
    "            fmt='.3g',\n",
    "            cmap=\"mako\")\n",
    "plt.sca(ax[0])\n",
    "plt.ylabel(None)\n",
    "plt.xticks(rotation=angle, fontsize=14)\n",
    "plt.title(\"Top-1 accuracy of predictions by roles across classes\")\n",
    "plt.yticks(fontsize=9)\n",
    "\n",
    "sns.heatmap(role_top_1_match_by_class_nonempty, \n",
    "            annot=True, \n",
    "            ax=ax[1], \n",
    "            fmt='.3g',\n",
    "            cmap=\"mako\")\n",
    "plt.sca(ax[1])\n",
    "plt.ylabel(None)\n",
    "plt.xticks(rotation=angle, fontsize=14)\n",
    "plt.title(\"Top-1 accuracy of predictions by roles across classes\\nfor nonempty GT\")\n",
    "plt.yticks(fontsize=9)\n",
    "\n",
    "sns.heatmap(role_nonempty_count, \n",
    "            annot=True, \n",
    "            fmt='d',\n",
    "            ax=ax[2], \n",
    "            cmap=\"mako\")\n",
    "plt.sca(ax[2])\n",
    "plt.title(\"Number of non-empty GT\")\n",
    "plt.ylabel(None)\n",
    "plt.xticks(rotation=angle, fontsize=14)\n",
    "plt.yticks(fontsize=9)\n",
    "\n",
    "fig.suptitle(\"Performance of reagent prediction across reaction classes and reagent roles\", fontsize=16)\n",
    "plt.show()"
   ]
  },
  {
   "cell_type": "markdown",
   "id": "e2f77fb3-758c-4858-83e1-165125ae3409",
   "metadata": {},
   "source": [
    "# Comparing the number of predicted molecules with the length of GT"
   ]
  },
  {
   "cell_type": "code",
   "execution_count": null,
   "id": "31541b28-9dbf-4f55-a6c5-113e8a84d642",
   "metadata": {},
   "outputs": [],
   "source": [
    "n_tgt_mols = test[\"Reagents\"].apply(lambda x: len(x.split('.')))"
   ]
  },
  {
   "cell_type": "code",
   "execution_count": null,
   "id": "9611f5c6-09ef-4460-b868-91e77fe6a804",
   "metadata": {},
   "outputs": [],
   "source": [
    "def label_difference(n: int):\n",
    "    if n == 0:\n",
    "        return \"Same\"\n",
    "    elif n < 0:\n",
    "        return \"Less\"\n",
    "    else:\n",
    "        return \"More\""
   ]
  },
  {
   "cell_type": "code",
   "execution_count": null,
   "id": "cfcbe99f-322f-4ecb-a585-4e2284bb7428",
   "metadata": {},
   "outputs": [],
   "source": [
    "fig, ax = plt.subplots(nrows=1, ncols=pred_rgs.shape[1], sharey=True, figsize=(14, 4))\n",
    "order = [\"Less\", \"Same\", \"More\"]\n",
    "for i in range(pred_rgs.shape[1]):\n",
    "    n_pred_mols = pred_rgs[f\"p_reagents_{i + 1}\"].apply(lambda x: len(x.split('.')))\n",
    "    (n_pred_mols - n_tgt_mols).apply(label_difference).value_counts(normalize=True).loc[order].plot(kind='bar', ax=ax[i])\n",
    "    ax[i].set_title(f\"Prediction {i + 1}\")\n",
    "\n",
    "fig.suptitle(\"Number of predicted molecules compared to the number of molecules in GT\")\n",
    "plt.show()"
   ]
  },
  {
   "cell_type": "markdown",
   "id": "1c15a562-6260-4fc0-b0b4-2bc5d5d50db9",
   "metadata": {},
   "source": [
    "The model tends to predict less molecules than needed"
   ]
  },
  {
   "cell_type": "markdown",
   "id": "f6ac7b8d-9f58-4038-b0c3-e7989c7c5690",
   "metadata": {},
   "source": [
    "# Unique reagents in test"
   ]
  },
  {
   "cell_type": "code",
   "execution_count": null,
   "id": "6b7241a4-abe8-417b-b544-48b8731a06f5",
   "metadata": {},
   "outputs": [],
   "source": [
    "unique_reagents = ut.get_reagent_statistics(test[\"Reagents\"])"
   ]
  },
  {
   "cell_type": "code",
   "execution_count": null,
   "id": "fa93e1e7-bc0b-440c-90ec-cb39d39cb5bf",
   "metadata": {},
   "outputs": [],
   "source": [
    "print(\"Unique reagents in the test set\")\n",
    "len(unique_reagents)"
   ]
  },
  {
   "cell_type": "code",
   "execution_count": null,
   "id": "718eab01-f30f-4e52-8a50-bbcab3a74a97",
   "metadata": {},
   "outputs": [],
   "source": [
    "print(\"Unique reagents if they are repeated more than 20 times\")\n",
    "len([(k, v) for k, v in unique_reagents.items() if v >= 20])"
   ]
  },
  {
   "cell_type": "markdown",
   "id": "e091ce5d-6671-4496-bc8a-638af020347e",
   "metadata": {},
   "source": [
    "# Performance across target lengths"
   ]
  },
  {
   "cell_type": "markdown",
   "id": "8bdeb893-4404-4e10-876f-b8a5fed7acbc",
   "metadata": {},
   "source": [
    "### Across the number of molecules in target"
   ]
  },
  {
   "cell_type": "code",
   "execution_count": null,
   "id": "b9dd921a-d920-47bf-9808-d97a0e9ab157",
   "metadata": {},
   "outputs": [],
   "source": [
    "topn_exact_match_acc"
   ]
  },
  {
   "cell_type": "code",
   "execution_count": null,
   "id": "656718b7-5820-4162-9934-84280beb1ddb",
   "metadata": {},
   "outputs": [],
   "source": [
    "pd.concat(\n",
    "    (test[\"Reagents\"].apply(lambda x: len(x.split('.'))),\n",
    "     topn_exact_match_acc),\n",
    "     axis=1\n",
    ").groupby(by=\"Reagents\")[\"top_1_exact\"].mean().plot(kind='bar')"
   ]
  },
  {
   "cell_type": "code",
   "execution_count": null,
   "id": "13dc5714-3347-40b6-9b04-c57d37ea7a8b",
   "metadata": {},
   "outputs": [],
   "source": [
    "pd.concat(\n",
    "    (test[\"Reagents\"].apply(lambda x: len(x.split('.'))),\n",
    "     topn_partial_match_acc),\n",
    "     axis=1\n",
    ").groupby(by=\"Reagents\")[\"top_1_partial\"].mean().plot(kind='bar')"
   ]
  },
  {
   "cell_type": "markdown",
   "id": "4e90da01-36e1-442d-8fb4-9760d0f4a43b",
   "metadata": {},
   "source": [
    "### Across the target string length"
   ]
  },
  {
   "cell_type": "code",
   "execution_count": null,
   "id": "db1a1fd2-4581-48b9-abf1-b7bb19ed6dfe",
   "metadata": {},
   "outputs": [],
   "source": [
    "plt.figure(figsize=(13, 5))\n",
    "\n",
    "plt.plot(\n",
    "    pd.concat(\n",
    "        (test[\"Reagents\"].apply(len),\n",
    "         topn_exact_match_acc),\n",
    "         axis=1\n",
    "    ).groupby(by=\"Reagents\")[\"top_1_exact\"].mean(),\n",
    "    '-x'\n",
    ")\n",
    "\n",
    "plt.show()"
   ]
  },
  {
   "cell_type": "code",
   "execution_count": null,
   "id": "41f31b4e-db2c-4fcc-94db-913cb8a2a497",
   "metadata": {},
   "outputs": [],
   "source": [
    "plt.figure(figsize=(13, 5))\n",
    "\n",
    "plt.plot(\n",
    "    pd.concat(\n",
    "        (test[\"Reagents\"].apply(len),\n",
    "         topn_partial_match_acc),\n",
    "         axis=1\n",
    "    ).groupby(by=\"Reagents\")[\"top_1_partial\"].mean(),\n",
    "    '-x'\n",
    ")\n",
    "\n",
    "plt.show()"
   ]
  },
  {
   "cell_type": "markdown",
   "id": "aca896d6-97bc-4851-947f-7f5d2a1fcafb",
   "metadata": {},
   "source": [
    "Small improvement, like 3 percent points. Measuring performance like that improves the score, more duplicates needed."
   ]
  },
  {
   "cell_type": "markdown",
   "id": "dd52ed61-0cb5-498a-a789-6234c7008308",
   "metadata": {},
   "source": [
    "# Number of unique predictions and unique GT sequence for each reaction class"
   ]
  },
  {
   "cell_type": "code",
   "execution_count": null,
   "id": "16f4549d-acf5-448e-8fa6-08726669bd5a",
   "metadata": {},
   "outputs": [],
   "source": [
    "compar = pd.concat((test[\"General class\"], rgs_and_predictions), axis=1)"
   ]
  },
  {
   "cell_type": "code",
   "execution_count": null,
   "id": "6974ad7d-07bc-4cdc-a934-7d68e11b012e",
   "metadata": {},
   "outputs": [],
   "source": [
    "compar[compar[\"General class\"] == \"Reductions\"][\"p_reagents_1\"].nunique()"
   ]
  },
  {
   "cell_type": "code",
   "execution_count": null,
   "id": "949e4eaf-b7be-4fe4-b8c6-06ef2a61b893",
   "metadata": {},
   "outputs": [],
   "source": [
    "pd.concat(\n",
    "    [compar.groupby(by=\"General class\")[c].nunique() for c in compar.columns[1:]],\n",
    "    axis=1\n",
    ").style.background_gradient(cmap='Blues', axis=1)"
   ]
  },
  {
   "cell_type": "markdown",
   "id": "8ba8fe8f-c4d6-4d31-a6da-190d951f4503",
   "metadata": {},
   "source": [
    "Model's predictions are not particularly diverse"
   ]
  },
  {
   "cell_type": "markdown",
   "id": "2f47ffcc-f331-4025-a608-29ed775e57b3",
   "metadata": {},
   "source": [
    "# Examples of incorrect predictions"
   ]
  },
  {
   "cell_type": "markdown",
   "id": "b72db655-cc77-452a-b350-520a2e977a73",
   "metadata": {},
   "source": [
    "Here the difference in train and test distributions very much manifests itself"
   ]
  },
  {
   "cell_type": "code",
   "execution_count": null,
   "id": "395a4f45-0799-4cdc-881b-f48c5618e5ca",
   "metadata": {},
   "outputs": [],
   "source": [
    "failed_in_exact = test.loc[topn_exact_match_acc[topn_exact_match_acc[\"top_5_exact\"] == 0].index]\n",
    "failed_in_partial = test.loc[topn_partial_match_acc[topn_partial_match_acc[\"top_5_partial\"] == 0].index]"
   ]
  },
  {
   "cell_type": "code",
   "execution_count": null,
   "id": "f598b92e-eddb-4f72-af6b-b43345d5df39",
   "metadata": {},
   "outputs": [],
   "source": [
    "c = \"C-C bond formation\""
   ]
  },
  {
   "cell_type": "code",
   "execution_count": null,
   "id": "bf4d7dd9-51d8-4fe2-b3bb-aea5a1202d16",
   "metadata": {},
   "outputs": [],
   "source": [
    "fail = failed_in_partial[failed_in_partial[\"General class\"] == c]\n",
    "fail_pred = pred_rgs.loc[fail.index]"
   ]
  },
  {
   "cell_type": "code",
   "execution_count": null,
   "id": "6b18218e-a41c-42d3-bb80-8deb10e48b27",
   "metadata": {},
   "outputs": [],
   "source": [
    "ix = iter(fail.index)"
   ]
  },
  {
   "cell_type": "code",
   "execution_count": null,
   "id": "fd020de1-f5ec-4ce5-aa99-f871bf813169",
   "metadata": {},
   "outputs": [],
   "source": [
    "i = next(ix)\n",
    "print(i)\n",
    "print(\"GT:\", fail.loc[i][\"Reagents\"])\n",
    "display(ut.draw_reaction_smarts(fail.loc[i][\"FullR\"]))\n",
    "left, right = fail.loc[i][\"ReactionRgsSource\"].split(\">>\")\n",
    "center = fail_pred.loc[i][\"p_reagents_1\"]\n",
    "pr = \">\".join((left, center, right))\n",
    "print(\"Prediction:\", center)\n",
    "display(ut.draw_reaction_smarts(pr))"
   ]
  },
  {
   "cell_type": "markdown",
   "id": "9a145fbd-9511-4d2a-acc0-0cb64696b188",
   "metadata": {},
   "source": [
    "### Reactions with zero top-5 recall"
   ]
  },
  {
   "cell_type": "code",
   "execution_count": null,
   "id": "a47e5d4d-3434-4372-9d89-e8be7374c3d7",
   "metadata": {},
   "outputs": [],
   "source": [
    "no_recall_index = topn_recall[topn_recall[\"top_5_recall\"] == 0.0].index"
   ]
  },
  {
   "cell_type": "code",
   "execution_count": null,
   "id": "f97c8288-6b88-45e7-b3c6-fcb3347b3223",
   "metadata": {},
   "outputs": [],
   "source": [
    "no_recall = test.loc[no_recall_index]\n",
    "no_recall_pred = pred_rgs.loc[no_recall_index]"
   ]
  },
  {
   "cell_type": "code",
   "execution_count": null,
   "id": "a41126fb-5247-48cf-9a92-b89bdb7ee013",
   "metadata": {},
   "outputs": [],
   "source": [
    "test[\"General class\"].value_counts()"
   ]
  },
  {
   "cell_type": "code",
   "execution_count": null,
   "id": "779c5920-563f-4282-ac1c-6ddabc814af9",
   "metadata": {},
   "outputs": [],
   "source": [
    "failing_classes = no_recall[\"General class\"].value_counts().loc[test[\"General class\"].value_counts().index] / test[\"General class\"].value_counts()\n",
    "failing_classes = failing_classes.sort_values()"
   ]
  },
  {
   "cell_type": "code",
   "execution_count": null,
   "id": "0da39a0d-061c-43a1-85f9-028f109d9a47",
   "metadata": {},
   "outputs": [],
   "source": [
    "failing_classes"
   ]
  },
  {
   "cell_type": "code",
   "execution_count": null,
   "id": "4b2aac78-7b53-4b4c-b850-e2b2375601d0",
   "metadata": {},
   "outputs": [],
   "source": [
    "plt.figure(figsize=(20, 5))\n",
    "plt.bar(\n",
    "    list(failing_classes.index),\n",
    "    list(failing_classes)\n",
    ")\n",
    "plt.xticks(rotation=15, fontsize=11)\n",
    "plt.grid(axis='y')\n",
    "plt.title(\"Proportion of reactions in a class with zero top-5 recall within the test set\")\n",
    "plt.savefig(\"/home/mandronov/Pictures/no_recall.png\")\n",
    "plt.show()"
   ]
  },
  {
   "cell_type": "code",
   "execution_count": null,
   "id": "93f222d5-379d-4fa2-8648-50480f3fee1c",
   "metadata": {},
   "outputs": [],
   "source": [
    "no_recall = no_recall[no_recall[\"General class\"] == 'Functional group addition (FGA)']"
   ]
  },
  {
   "cell_type": "code",
   "execution_count": null,
   "id": "06b221fc-d5a3-46b0-9d01-e6344bb439d2",
   "metadata": {},
   "outputs": [],
   "source": [
    "ix = iter(no_recall.index)"
   ]
  },
  {
   "cell_type": "code",
   "execution_count": null,
   "id": "155dca97-b130-4847-9d11-dbece77052e5",
   "metadata": {},
   "outputs": [],
   "source": [
    "i = next(ix)\n",
    "print(i)\n",
    "print(\"GT:\", no_recall.loc[i][\"Reagents\"])\n",
    "display(ut.draw_reaction_smarts(no_recall.loc[i][\"FullR\"]))\n",
    "left, right = no_recall.loc[i][\"ReactionRgsSource\"].split(\">>\")\n",
    "center = no_recall_pred.loc[i][\"p_reagents_1\"]\n",
    "pr = \">\".join((left, center, right))\n",
    "print(\"Prediction:\", center)\n",
    "display(ut.draw_reaction_smarts(pr))"
   ]
  },
  {
   "cell_type": "markdown",
   "id": "ace38222-5364-42da-90ef-768bc2b11ad5",
   "metadata": {},
   "source": [
    "# Attention patterns"
   ]
  },
  {
   "cell_type": "code",
   "execution_count": null,
   "id": "c9ca817e-e747-47a5-8e75-7f2e809497eb",
   "metadata": {},
   "outputs": [],
   "source": [
    "att_sample_rxn = test.loc[14393][\"ReactionRgsSource\"]\n",
    "att_sample_rxn"
   ]
  },
  {
   "cell_type": "code",
   "execution_count": null,
   "id": "1bd1f26f-c856-44f3-b97d-9d05b465e57d",
   "metadata": {},
   "outputs": [],
   "source": [
    "sample_path_in = f\"../data/test/att_sample.txt\"\n",
    "sample_path_out = f\"../experiments/results/att_sample.txt\""
   ]
  },
  {
   "cell_type": "code",
   "execution_count": null,
   "id": "3ca357c5-5c11-4575-bfbd-6b9ea3bb50f8",
   "metadata": {},
   "outputs": [],
   "source": [
    "sample_pred = MTReagentPredictor(VOCAB, None, None, None)\n",
    "tokenized_sample = \" \".join(\n",
    "    sample_pred.tokenizer_source.tokenize([att_sample_rxn])[0][1:-1]\n",
    ")\n",
    "with open(sample_path_in, \"w\") as f:\n",
    "    f.write(tokenized_sample)"
   ]
  },
  {
   "cell_type": "code",
   "execution_count": null,
   "id": "f2771699-2b7e-4ace-b0b8-fa5992cf480d",
   "metadata": {},
   "outputs": [],
   "source": [
    "tokenized_sample"
   ]
  },
  {
   "cell_type": "code",
   "execution_count": null,
   "id": "52b4024c-13d9-4d36-9806-a6629d7f2f86",
   "metadata": {},
   "outputs": [],
   "source": [
    "command = [\n",
    "    \"python3\", \"/home/mandronov/work/reagents/translate.py\",\n",
    "    \"-model\", MODEL,\n",
    "    \"-src\", sample_path_in,\n",
    "    \"-output\", sample_path_out,\n",
    "    \"-batch_size\", \"32\",\n",
    "    \"-max_length\", \"200\",\n",
    "    \"-beam_size\", \"5\",\n",
    "    \"-n_best\", \"5\", \n",
    "    \"-attn_debug\", \"-replace_unk\", \"-fast\",\n",
    "    \"-gpu\", \"0\"]\n",
    "\n",
    "att_w = subprocess.check_output(command)"
   ]
  },
  {
   "cell_type": "code",
   "execution_count": null,
   "id": "aa5e3318-25ba-4bdb-a03b-1926ec5fb75f",
   "metadata": {},
   "outputs": [],
   "source": [
    "att_w = att_w.decode('utf-8').split(\"\\n\")"
   ]
  },
  {
   "cell_type": "code",
   "execution_count": null,
   "id": "031c8c05-689b-4439-94d3-dfeb4152e07b",
   "metadata": {
    "tags": []
   },
   "outputs": [],
   "source": [
    "source_tokens = att_w[0].split()"
   ]
  },
  {
   "cell_type": "code",
   "execution_count": null,
   "id": "60982b1b-92d5-45fe-8981-41e4d073b714",
   "metadata": {
    "tags": []
   },
   "outputs": [],
   "source": [
    "lines = [i.split() for i in att_w[1:] if (i and not i.startswith(\"PRED\"))]\n",
    "\n",
    "output_tokens = []\n",
    "scores = []\n",
    "for line in lines:\n",
    "    output_tokens.append(line[0])\n",
    "    scores.append([float(j.strip('*')) for j in line[1:]])\n",
    "scores = pd.DataFrame(scores)\n",
    "scores.index = output_tokens\n",
    "scores.columns = source_tokens"
   ]
  },
  {
   "cell_type": "code",
   "execution_count": null,
   "id": "05a9a6f5-823a-4880-9a79-be296f3dd2ab",
   "metadata": {},
   "outputs": [],
   "source": [
    "plt.figure(figsize=(15, 10))\n",
    "axx = plt.gca()\n",
    "sns.heatmap(scores, cmap=\"rocket_r\", ax=axx, xticklabels=True, yticklabels=True)\n",
    "axx.tick_params(axis='both', which='both', length=0, labelsize=10, labelbottom=False, bottom=False, top=False, labeltop=True)\n",
    "\n",
    "axx.set_xlabel(\"Source sequence\", fontsize=16)\n",
    "axx.set_ylabel(\"Output sequence\", fontsize=16)\n",
    "axx.xaxis.set_label_position('top') \n",
    "plt.xticks(rotation=0, fontsize=9)\n",
    "plt.yticks(rotation=0, fontsize=9)\n",
    "plt.show()"
   ]
  },
  {
   "cell_type": "code",
   "execution_count": null,
   "id": "2847330a-82be-4ace-b4bb-c6ad6ce2609a",
   "metadata": {},
   "outputs": [],
   "source": [
    "left, right = \"\".join(source_tokens).split(\">>\")\n",
    "decoded_reaction = left + \">\" + \"\".join(output_tokens[:-1]) + \">\" + right"
   ]
  },
  {
   "cell_type": "code",
   "execution_count": null,
   "id": "3aa90ca3-c229-435a-9756-24f9f143e532",
   "metadata": {},
   "outputs": [],
   "source": [
    "print(decoded_reaction)\n",
    "ut.draw_reaction_smarts(decoded_reaction)"
   ]
  },
  {
   "cell_type": "markdown",
   "id": "6c8f1757-8a62-41b4-a284-7da89cd20c31",
   "metadata": {},
   "source": [
    "# Inspecting the replaced reagents in the MIT subset of USPTO"
   ]
  },
  {
   "cell_type": "code",
   "execution_count": null,
   "id": "1a5088f4-5b00-448b-bf7d-1b6e1e262152",
   "metadata": {},
   "outputs": [],
   "source": [
    "path = \"../data/tokenized/MIT_separated\"\n",
    "arrow = \">\""
   ]
  },
  {
   "cell_type": "code",
   "execution_count": null,
   "id": "989b5909-2af2-43cc-99a6-e1f8dc928755",
   "metadata": {},
   "outputs": [],
   "source": [
    "subset = \"train\" # \"val\""
   ]
  },
  {
   "cell_type": "code",
   "execution_count": null,
   "id": "ef69184b-ffa6-45b2-9c9e-87ff75b0e66a",
   "metadata": {},
   "outputs": [],
   "source": [
    "with open(path + f\"/src-{subset}.txt\") as f, open(path + f\"_no_reags/src-{subset}.txt\") as g, open(path + f\"_reags_top1/src-{subset}.txt\") as h, open(path + f\"_reags_top1_and_rdkit/src-{subset}.txt\") as ff, open(path + f\"_reags_role_voting/src-{subset}.txt\") as gg:\n",
    "    base = [i.strip().replace(\" \", \"\") for i in f.readlines()]\n",
    "    no_rgs = [i.strip().replace(\" \", \"\") for i in g.readlines()]\n",
    "    top = [i.strip().replace(\" \", \"\") for i in h.readlines()]\n",
    "    mix = [i.strip().replace(\" \", \"\") for i in ff.readlines()]\n",
    "    role = [i.strip().replace(\" \", \"\") for i in gg.readlines()]\n",
    "with open(path + f\"/tgt-{subset}.txt\") as f:\n",
    "    tgt = [i.strip().replace(\" \", \"\") for i in f.readlines()]"
   ]
  },
  {
   "cell_type": "code",
   "execution_count": null,
   "id": "ba853825-89d5-41f6-91e3-a8c9ec71d5bc",
   "metadata": {},
   "outputs": [],
   "source": [
    "base = [i + arrow + j for i, j in zip(base, tgt)]\n",
    "no_rgs = [i + \">>\" + j for i, j in zip(no_rgs, tgt)]\n",
    "top = [i + arrow + j for i, j in zip(top, tgt)]\n",
    "mix = [i + arrow + j for i, j in zip(mix, tgt)]\n",
    "role = [i + arrow + j for i, j in zip(role, tgt)]"
   ]
  },
  {
   "cell_type": "markdown",
   "id": "c0c9987f-59c2-4549-b30b-2a0ee5203f56",
   "metadata": {},
   "source": [
    "Examples of indexes of reactions with replaced reagents in train:  \n",
    "1,   3,   6,   8,  17,  22,  25,  26,  33,  38,  39,  42,  47,\n",
    "            51,  56,  59,  60,  64,  68,  76,  81,  83,  84,  87,  91,  92,\n",
    "             94,  98,  99, 100, 102, 103, 105, 119, 121, 124, 129, 130, 133,\n",
    "            136, 143, 144, 148, 151, 153, 154, 156, 162, 164, 168, 169, 178,\n",
    "            180, 181, 182, 195, 200, 201, 203, 208, 209, 210, 211, 216, 222,\n",
    "            228, 233, 243, 246, 249, 250, 254, 256, 257, 263, 266, 268, 273,\n",
    "            274, 275, 277, 279, 284, 288, 289, 293, 294, 301, 309, 310, 321,\n",
    "            324, 327, 328, 330, 332, 333, 334, 338, 342  \n",
    " \n",
    "Examples of indexes of reactions with replaced reagents in val: \n",
    "0,   3,   5,   6,   8,  22,  24,  28,  35,  47,  48,  51,  53,\n",
    "             59,  63,  67,  68,  72,  73,  76,  78,  79,  85,  88,  93,  97,\n",
    "            106, 107, 108, 110, 118, 129, 134, 138, 140, 143, 145, 146, 148,\n",
    "            156, 166, 169, 172, 173, 174, 186, 189, 194, 195, 199, 202, 209,\n",
    "            211, 213, 214, 224, 226, 230, 231, 238, 243, 244, 245, 249, 250,\n",
    "            251, 253, 262, 271, 272, 276, 277, 283, 290, 291, 292, 296, 302,\n",
    "            309, 314, 316, 321, 327, 332, 334, 338, 342, 347, 351, 352, 364,\n",
    "            372, 373, 377, 378, 390, 393, 395, 397, 405\n"
   ]
  },
  {
   "cell_type": "code",
   "execution_count": null,
   "id": "a0b5d9e9-907e-48d2-98ee-74ab208ebda9",
   "metadata": {},
   "outputs": [],
   "source": [
    "ix = iter(range(len(base)))"
   ]
  },
  {
   "cell_type": "code",
   "execution_count": null,
   "id": "7a924f62-3f99-4aa0-bb2c-fb32a450eb84",
   "metadata": {},
   "outputs": [],
   "source": [
    "i = next(ix)\n",
    "print(i)\n",
    "print(\"base\")\n",
    "display(ut.draw_reaction_smarts(base[i]))\n",
    "print(\"mix\")\n",
    "display(ut.draw_reaction_smarts(mix[i]))\n",
    "print(\"top\")\n",
    "display(ut.draw_reaction_smarts(top[i]))\n",
    "print(\"no\")\n",
    "display(ut.draw_reaction_smarts(no_rgs[i]))\n",
    "print(\"role\")\n",
    "display(ut.draw_reaction_smarts(role[i]))"
   ]
  },
  {
   "cell_type": "markdown",
   "id": "2169f714-1d42-47ae-b938-c07f5bddd7f9",
   "metadata": {},
   "source": [
    "# Products prediction"
   ]
  },
  {
   "cell_type": "code",
   "execution_count": null,
   "id": "8c69dc6b-84a1-474e-aaea-6b02c81e6361",
   "metadata": {},
   "outputs": [],
   "source": [
    "# precursors = (test[\"Reactants\"] + '.' + test[\"Reagents\"]).str.strip('.')\n",
    "precursors = test[\"Reactants\"] + '>' + test[\"Reagents\"]"
   ]
  },
  {
   "cell_type": "code",
   "execution_count": null,
   "id": "9c4f20a6-1b7d-400b-a7f0-933aa4864033",
   "metadata": {},
   "outputs": [],
   "source": [
    "precursors"
   ]
  },
  {
   "cell_type": "code",
   "execution_count": null,
   "id": "5d2c4163-3645-4504-8236-35b39e63608d",
   "metadata": {},
   "outputs": [],
   "source": [
    "precursors.nunique(), precursors.shape"
   ]
  },
  {
   "cell_type": "code",
   "execution_count": null,
   "id": "b9285fcf-093a-46ec-98c3-30698dd5414c",
   "metadata": {},
   "outputs": [],
   "source": [
    "# MODELS = {\n",
    "#     \"mit_mixed_20k\": \"/home/mandronov/work/reagents/experiments/trained_models/MIT_mixed_augm_model_step_20000.pt\",\n",
    "#     \"mit_mixed_40k\": \"/home/mandronov/work/reagents/experiments/trained_models/MIT_mixed_augm_model_step_40000.pt\"\n",
    "# }\n",
    "\n",
    "MODELS = {\n",
    "    \"mit_sep_500k\": \"/home/mandronov/work/reagents/experiments/trained_models/MIT_separated_model_step_500000.pt\",\n",
    "    \"mit_sep_500k_repl\": \"/home/mandronov/work/reagents/experiments/trained_models/MIT_separated_reags_top1_and_rdkit_model_step_500000.pt\"\n",
    "}"
   ]
  },
  {
   "cell_type": "code",
   "execution_count": null,
   "id": "7a502c63-693c-40a0-a50a-9e6fd51170ca",
   "metadata": {},
   "outputs": [],
   "source": [
    "product_predictors = {}\n",
    "for name, model in MODELS.items():\n",
    "    product_predictors[name] = MTProductPredictor(\n",
    "        model_path=model,\n",
    "        tokenized_path=f\"../data/test/src_{name}.txt\",\n",
    "        output_path=f\"../experiments/results/test_reaxys_{name}.txt\",\n",
    "        beam_size=5,\n",
    "        n_best=5,\n",
    "        gpu=0\n",
    "    ) "
   ]
  },
  {
   "cell_type": "code",
   "execution_count": null,
   "id": "1c6dcbc3-b460-4cb8-aae2-32704ca0e26a",
   "metadata": {},
   "outputs": [],
   "source": [
    "product_predictors"
   ]
  },
  {
   "cell_type": "code",
   "execution_count": null,
   "id": "d83769a7-5088-462e-ac08-952c36bea7f2",
   "metadata": {
    "tags": []
   },
   "outputs": [],
   "source": [
    "%%time\n",
    "for k in product_predictors:\n",
    "    product_predictors[k].predict(precursors)"
   ]
  },
  {
   "cell_type": "code",
   "execution_count": null,
   "id": "622da10e-7cfa-41db-85ac-d6a6c5b16904",
   "metadata": {},
   "outputs": [],
   "source": [
    "for k in product_predictors:\n",
    "    product_predictors[k].load_predictions()"
   ]
  },
  {
   "cell_type": "code",
   "execution_count": null,
   "id": "892dfe8a-c8b5-4924-a088-3e90bf02eb27",
   "metadata": {},
   "outputs": [],
   "source": [
    "for k in product_predictors:\n",
    "    for c in product_predictors[k].predictions.columns:\n",
    "        product_predictors[k].predictions[c] = product_predictors[k].predictions[c].apply(lambda smi: ut.canonicalize_smiles(max(smi.split('.'), key=len)))"
   ]
  },
  {
   "cell_type": "code",
   "execution_count": null,
   "id": "4a81196c-0099-4eae-9495-9e69d25da62b",
   "metadata": {},
   "outputs": [],
   "source": [
    "for k in product_predictors:\n",
    "    hits = 0\n",
    "    for i in range(test.shape[0]):\n",
    "        for j in range(1, 5 + 1):\n",
    "        pred = product_predictors[k].predictions[\"p_products_1\"].iloc[i]\n",
    "        pred = ut.canonicalize_smiles(pred)\n",
    "        tgt = test[\"Product\"].iloc[i]\n",
    "        tgt_set = {i for i in tgt.split('.')}\n",
    "        pred_prod = max(pred.split('.'), key=len)\n",
    "        if pred_prod in tgt_set:\n",
    "            hits += 1\n",
    "    print(k, hits)"
   ]
  },
  {
   "cell_type": "code",
   "execution_count": null,
   "id": "10ab6c34-06ea-49df-a9e5-2fa9b27f5dca",
   "metadata": {},
   "outputs": [],
   "source": [
    "for k in product_predictors:\n",
    "    print(k)\n",
    "    prod_topn_exact_match_acc = pd.concat(\n",
    "        (\n",
    "            test[\"Product\"], \n",
    "            product_predictors[k].predictions\n",
    "        )\n",
    "        , axis=1).apply(lambda x: match_accuracy(x, 'exact'), axis=1)\n",
    "\n",
    "    prod_topn_exact_match_acc = pd.DataFrame(prod_topn_exact_match_acc.to_list())\n",
    "    prod_topn_exact_match_acc.columns = [f\"top_{i + 1}_exact\" for i in range(5)]\n",
    "\n",
    "    print(\"Top-N exact match accuracy\")\n",
    "    for c in prod_topn_exact_match_acc.columns:\n",
    "        print(c, prod_topn_exact_match_acc[c].sum())"
   ]
  }
 ],
 "metadata": {
  "kernelspec": {
   "display_name": "Python 3",
   "language": "python",
   "name": "python3"
  },
  "language_info": {
   "codemirror_mode": {
    "name": "ipython",
    "version": 3
   },
   "file_extension": ".py",
   "mimetype": "text/x-python",
   "name": "python",
   "nbconvert_exporter": "python",
   "pygments_lexer": "ipython3",
   "version": "3.6.13"
  }
 },
 "nbformat": 4,
 "nbformat_minor": 5
}
