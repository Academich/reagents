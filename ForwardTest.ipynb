{
 "cells": [
  {
   "cell_type": "code",
   "execution_count": 1,
   "id": "8a33c446-bf98-460a-87a9-30f4b42424bc",
   "metadata": {},
   "outputs": [],
   "source": [
    "import re\n",
    "import subprocess\n",
    "from pathlib import Path\n",
    "from collections import defaultdict\n",
    "from typing import Optional\n",
    "from multiprocessing import cpu_count\n",
    "\n",
    "import pandas as pd\n",
    "import numpy as np\n",
    "from tqdm import tqdm\n",
    "import matplotlib.pyplot as plt\n",
    "import seaborn as sns"
   ]
  },
  {
   "cell_type": "code",
   "execution_count": 2,
   "id": "73d82079-d20b-4d52-a00f-767c3d8bcc13",
   "metadata": {},
   "outputs": [],
   "source": [
    "from rdkit import Chem\n",
    "from rdkit import RDLogger"
   ]
  },
  {
   "cell_type": "code",
   "execution_count": 3,
   "id": "0a103b92-f82f-426c-becc-e21fca06c7f2",
   "metadata": {},
   "outputs": [],
   "source": [
    "import src.utils as ut\n",
    "from src.tokenizer import ChemSMILESTokenizer"
   ]
  },
  {
   "cell_type": "code",
   "execution_count": 4,
   "id": "13edd20e-3c7c-477e-81c9-40be36242a02",
   "metadata": {},
   "outputs": [],
   "source": [
    "from src.prediction import MTProductPredictor, MTReagentPredictor"
   ]
  },
  {
   "cell_type": "code",
   "execution_count": 5,
   "id": "80c5809f-dcad-4d02-bad7-b5f5df5adc4e",
   "metadata": {},
   "outputs": [],
   "source": [
    "RDLogger.DisableLog('rdApp.*')\n",
    "tqdm.pandas()"
   ]
  },
  {
   "cell_type": "code",
   "execution_count": 6,
   "id": "85315ee3-4a4b-4eb6-bffb-14182c3b8a54",
   "metadata": {},
   "outputs": [],
   "source": [
    "def canonicalize_reaction(smi: str) -> str:\n",
    "    left, center, right = smi.split(\">\")\n",
    "    try:\n",
    "        left = \".\".join([Chem.MolToSmiles(Chem.MolFromSmiles(s), isomericSmiles=False) for s in left.split(\".\")])\n",
    "        center = \".\".join([Chem.MolToSmiles(Chem.MolFromSmiles(s), isomericSmiles=False) for s in center.split(\".\")])\n",
    "        right = \".\".join([Chem.MolToSmiles(Chem.MolFromSmiles(s), isomericSmiles=False) for s in right.split(\".\")])\n",
    "    except:\n",
    "        return smi\n",
    "    else:\n",
    "        return left + \">\" + center + \">\" + right\n",
    "    \n",
    "    \n",
    "def canonicalize_smiles(m: str) -> str:\n",
    "    mol = Chem.MolFromSmiles(m)\n",
    "    if mol is not None:\n",
    "        return Chem.MolToSmiles(mol, isomericSmiles=False)\n",
    "    else:\n",
    "        return ''"
   ]
  },
  {
   "cell_type": "markdown",
   "id": "de85952b-1312-4e5f-bd54-41a947aa1360",
   "metadata": {},
   "source": [
    "### Loading data"
   ]
  },
  {
   "cell_type": "code",
   "execution_count": 7,
   "id": "d647fe31-57c0-41db-83f4-765494ce0089",
   "metadata": {},
   "outputs": [],
   "source": [
    "data = pd.read_csv(\"data/raw/Reaxys_for_Mikhail.csv\", \n",
    "                   usecols=[\"Reaction\", \"Reagent SMILES\", \"Solvent SMILES\", \"Catalyst SMILES\", \"General class\", \"Numeric class\"])"
   ]
  },
  {
   "cell_type": "code",
   "execution_count": 8,
   "id": "f10a3b35-2b18-4828-9fa5-8c9a16dfd5ca",
   "metadata": {},
   "outputs": [],
   "source": [
    "data = data.fillna(\"\")\n",
    "data = data.drop(data[data[\"General class\"] == ''].index)\n",
    "data = data.drop(data[data[\"Reaction\"] == ''].index)"
   ]
  },
  {
   "cell_type": "code",
   "execution_count": 9,
   "id": "3cc66ffd-972e-4cf1-a4b1-b9defc47cacc",
   "metadata": {},
   "outputs": [
    {
     "name": "stderr",
     "output_type": "stream",
     "text": [
      "100%|█████████████████████████████████████████████████████████████████████████████████████████████████████████████████████████████████████████████████████████████████████████████████████████████████████████████████████████████████████████████████████████████████████████| 140168/140168 [00:56<00:00, 2481.70it/s]\n"
     ]
    }
   ],
   "source": [
    "data[\"Reaction\"] = data[\"Reaction\"].progress_apply(canonicalize_reaction)\n",
    "data[\"Reaction\"] = data[\"Reaction\"].apply(lambda x: x.replace(\"[HH]\", \"[H][H]\"))\n",
    "data = data.drop(data[data[\"Reaction\"] == \"\"].index)"
   ]
  },
  {
   "cell_type": "code",
   "execution_count": 11,
   "id": "e3fa1eef-e0b4-407a-83f6-736f63eeaa37",
   "metadata": {},
   "outputs": [],
   "source": [
    "data[\"Catalyst SMILES\"] = data[\"Catalyst SMILES\"].apply(lambda x: x.replace(\"[HH]\", \"[H][H]\"))\n",
    "# data[\"Catalyst SMILES\"] = data[\"Catalyst SMILES\"].apply(drop_duplicate_molecules)\n",
    "data[\"Catalyst SMILES\"] = data[\"Catalyst SMILES\"].apply(canonicalize_smiles)"
   ]
  },
  {
   "cell_type": "code",
   "execution_count": 13,
   "id": "2e60bebe-bd32-4809-a6b8-c13bab5a9fb3",
   "metadata": {},
   "outputs": [],
   "source": [
    "# data[\"Solvent SMILES\"] = data[\"Solvent SMILES\"].apply(drop_duplicate_molecules)\n",
    "data[\"Solvent SMILES\"] = data[\"Solvent SMILES\"].apply(canonicalize_smiles)"
   ]
  },
  {
   "cell_type": "code",
   "execution_count": 14,
   "id": "b2416f63-4188-4a59-9765-e433e51bf7df",
   "metadata": {},
   "outputs": [],
   "source": [
    "data[\"Reagent SMILES\"] = data[\"Reagent SMILES\"].apply(lambda x: x.replace(\"[HH]\", \"[H][H]\"))\n",
    "# data[\"Reagent SMILES\"] = data[\"Reagent SMILES\"].apply(drop_duplicate_molecules)\n",
    "data[\"Reagent SMILES\"] = data[\"Reagent SMILES\"].apply(canonicalize_smiles)"
   ]
  },
  {
   "cell_type": "code",
   "execution_count": 15,
   "id": "15cafaf5-1678-4fc3-b707-3246439de7ec",
   "metadata": {},
   "outputs": [],
   "source": [
    "data[\"Reagents\"] = data[\"Catalyst SMILES\"] + \".\" + data[\"Reagent SMILES\"] + \".\" + data[\"Solvent SMILES\"]\n",
    "data[\"Reagents\"] = data[\"Reagents\"].apply(lambda x: x.replace(\"..\", \".\").strip(\".\"))"
   ]
  },
  {
   "cell_type": "code",
   "execution_count": 16,
   "id": "b6dda1a8-c88f-4802-9b69-6c519944b7f6",
   "metadata": {},
   "outputs": [],
   "source": [
    "data = data.drop(data[data[\"Reagents\"] == \"\"].index)  # All reactions will have some reagents"
   ]
  },
  {
   "cell_type": "code",
   "execution_count": 17,
   "id": "30f91236-289c-452d-8d09-8aee320060ee",
   "metadata": {},
   "outputs": [],
   "source": [
    "data[\"Products\"] = data[\"Reaction\"].str.split(\">>\", expand=True)[1]"
   ]
  },
  {
   "cell_type": "code",
   "execution_count": 22,
   "id": "85428cb5-a80c-42ab-9c8a-23fe0830a34b",
   "metadata": {},
   "outputs": [],
   "source": [
    "def insert_reagents(rxn, rgs):\n",
    "    left, right = rxn.split(\">>\")\n",
    "    return left + \">\" + rgs + \">\" + right\n",
    "\n",
    "def only_precursors(rxn):\n",
    "    left, center, right = rxn.split(\">\")\n",
    "    return (left + \">\" + center).strip('.')\n",
    "\n",
    "data[\"FullR\"] = data[[\"Reaction\", \"Reagents\"]].apply(lambda x: insert_reagents(x[0], x[1]), axis=1)\n",
    "data[\"Precursors\"] = data[\"FullR\"].apply(only_precursors)"
   ]
  },
  {
   "cell_type": "code",
   "execution_count": 23,
   "id": "c29fc3d6-a254-48ff-b439-bacdfc187fd2",
   "metadata": {},
   "outputs": [
    {
     "data": {
      "text/plain": [
       "Heteroatom alkylation and arylation                                    30729\n",
       "Acylation and related processes                                        23531\n",
       "Deprotections                                                          21189\n",
       "C-C bond formation                                                     19707\n",
       "Functional group addition (FGA)                                        15629\n",
       "Oxidations                                                             11622\n",
       "Reductions                                                              6205\n",
       "Functional group addition (FGA)/Heteroatom alkylation and arylation     6203\n",
       "Protections                                                             1788\n",
       "Functional group interconversion (FGI)                                  1665\n",
       "Name: General class, dtype: int64"
      ]
     },
     "execution_count": 23,
     "metadata": {},
     "output_type": "execute_result"
    }
   ],
   "source": [
    "data[\"General class\"].value_counts()"
   ]
  },
  {
   "cell_type": "code",
   "execution_count": 24,
   "id": "cdf8979f-3e5b-4b7f-84a7-ec75ff5e5f23",
   "metadata": {},
   "outputs": [
    {
     "data": {
      "text/html": [
       "<div>\n",
       "<style scoped>\n",
       "    .dataframe tbody tr th:only-of-type {\n",
       "        vertical-align: middle;\n",
       "    }\n",
       "\n",
       "    .dataframe tbody tr th {\n",
       "        vertical-align: top;\n",
       "    }\n",
       "\n",
       "    .dataframe thead th {\n",
       "        text-align: right;\n",
       "    }\n",
       "</style>\n",
       "<table border=\"1\" class=\"dataframe\">\n",
       "  <thead>\n",
       "    <tr style=\"text-align: right;\">\n",
       "      <th></th>\n",
       "      <th>Reaction</th>\n",
       "      <th>Reagent SMILES</th>\n",
       "      <th>Solvent SMILES</th>\n",
       "      <th>Catalyst SMILES</th>\n",
       "      <th>General class</th>\n",
       "      <th>Numeric class</th>\n",
       "      <th>Reagents</th>\n",
       "      <th>Products</th>\n",
       "      <th>FullR</th>\n",
       "      <th>Precursors</th>\n",
       "    </tr>\n",
       "  </thead>\n",
       "  <tbody>\n",
       "    <tr>\n",
       "      <th>0</th>\n",
       "      <td>OC1CN(Cc2ccccc2)CC1O&gt;&gt;OC1CNCC1O</td>\n",
       "      <td>[H][H]</td>\n",
       "      <td>CO</td>\n",
       "      <td>[Pd]</td>\n",
       "      <td>Deprotections</td>\n",
       "      <td>6.1.5</td>\n",
       "      <td>[Pd].[H][H].CO</td>\n",
       "      <td>OC1CNCC1O</td>\n",
       "      <td>OC1CN(Cc2ccccc2)CC1O&gt;[Pd].[H][H].CO&gt;OC1CNCC1O</td>\n",
       "      <td>OC1CN(Cc2ccccc2)CC1O&gt;[Pd].[H][H].CO</td>\n",
       "    </tr>\n",
       "    <tr>\n",
       "      <th>1</th>\n",
       "      <td>c1ccc(CN2CCC3(CC2)Cc2ccccc2O3)cc1&gt;&gt;c1ccc2c(c1)...</td>\n",
       "      <td>[H][H]</td>\n",
       "      <td>CC(C)O</td>\n",
       "      <td>[Pd]</td>\n",
       "      <td>Deprotections</td>\n",
       "      <td>6.1.5</td>\n",
       "      <td>[Pd].[H][H].CC(C)O</td>\n",
       "      <td>c1ccc2c(c1)CC1(CCNCC1)O2</td>\n",
       "      <td>c1ccc(CN2CCC3(CC2)Cc2ccccc2O3)cc1&gt;[Pd].[H][H]....</td>\n",
       "      <td>c1ccc(CN2CCC3(CC2)Cc2ccccc2O3)cc1&gt;[Pd].[H][H]....</td>\n",
       "    </tr>\n",
       "    <tr>\n",
       "      <th>2</th>\n",
       "      <td>OC1C2COCC1CN(Cc1ccccc1)C2&gt;&gt;OC1C2CNCC1COC2</td>\n",
       "      <td>[H][H]</td>\n",
       "      <td>CCO</td>\n",
       "      <td>[OH-].[OH-].[Pd+2]</td>\n",
       "      <td>Deprotections</td>\n",
       "      <td>6.1.5</td>\n",
       "      <td>[OH-].[OH-].[Pd+2].[H][H].CCO</td>\n",
       "      <td>OC1C2CNCC1COC2</td>\n",
       "      <td>OC1C2COCC1CN(Cc1ccccc1)C2&gt;[OH-].[OH-].[Pd+2].[...</td>\n",
       "      <td>OC1C2COCC1CN(Cc1ccccc1)C2&gt;[OH-].[OH-].[Pd+2].[...</td>\n",
       "    </tr>\n",
       "    <tr>\n",
       "      <th>3</th>\n",
       "      <td>OC1CCN(Cc2ccccc2)C1&gt;&gt;OC1CCNC1</td>\n",
       "      <td>[H][H]</td>\n",
       "      <td>CO</td>\n",
       "      <td>[Pd]</td>\n",
       "      <td>Deprotections</td>\n",
       "      <td>6.1.5</td>\n",
       "      <td>[Pd].[H][H].CO</td>\n",
       "      <td>OC1CCNC1</td>\n",
       "      <td>OC1CCN(Cc2ccccc2)C1&gt;[Pd].[H][H].CO&gt;OC1CCNC1</td>\n",
       "      <td>OC1CCN(Cc2ccccc2)C1&gt;[Pd].[H][H].CO</td>\n",
       "    </tr>\n",
       "    <tr>\n",
       "      <th>4</th>\n",
       "      <td>Cc1ccc(O)c(Cn2c(NC3CCN(Cc4ccccc4)CC3)nc3ccc(CO...</td>\n",
       "      <td>[H][H]</td>\n",
       "      <td>CO</td>\n",
       "      <td>[Pd]</td>\n",
       "      <td>Deprotections</td>\n",
       "      <td>6.1.5</td>\n",
       "      <td>[Pd].[H][H].CO</td>\n",
       "      <td>Cc1ccc(O)c(Cn2c(NC3CCNCC3)nc3ccc(CO)cc32)n1</td>\n",
       "      <td>Cc1ccc(O)c(Cn2c(NC3CCN(Cc4ccccc4)CC3)nc3ccc(CO...</td>\n",
       "      <td>Cc1ccc(O)c(Cn2c(NC3CCN(Cc4ccccc4)CC3)nc3ccc(CO...</td>\n",
       "    </tr>\n",
       "  </tbody>\n",
       "</table>\n",
       "</div>"
      ],
      "text/plain": [
       "                                            Reaction Reagent SMILES  \\\n",
       "0                    OC1CN(Cc2ccccc2)CC1O>>OC1CNCC1O         [H][H]   \n",
       "1  c1ccc(CN2CCC3(CC2)Cc2ccccc2O3)cc1>>c1ccc2c(c1)...         [H][H]   \n",
       "2          OC1C2COCC1CN(Cc1ccccc1)C2>>OC1C2CNCC1COC2         [H][H]   \n",
       "3                      OC1CCN(Cc2ccccc2)C1>>OC1CCNC1         [H][H]   \n",
       "4  Cc1ccc(O)c(Cn2c(NC3CCN(Cc4ccccc4)CC3)nc3ccc(CO...         [H][H]   \n",
       "\n",
       "  Solvent SMILES     Catalyst SMILES  General class Numeric class  \\\n",
       "0             CO                [Pd]  Deprotections         6.1.5   \n",
       "1         CC(C)O                [Pd]  Deprotections         6.1.5   \n",
       "2            CCO  [OH-].[OH-].[Pd+2]  Deprotections         6.1.5   \n",
       "3             CO                [Pd]  Deprotections         6.1.5   \n",
       "4             CO                [Pd]  Deprotections         6.1.5   \n",
       "\n",
       "                        Reagents                                     Products  \\\n",
       "0                 [Pd].[H][H].CO                                    OC1CNCC1O   \n",
       "1             [Pd].[H][H].CC(C)O                     c1ccc2c(c1)CC1(CCNCC1)O2   \n",
       "2  [OH-].[OH-].[Pd+2].[H][H].CCO                               OC1C2CNCC1COC2   \n",
       "3                 [Pd].[H][H].CO                                     OC1CCNC1   \n",
       "4                 [Pd].[H][H].CO  Cc1ccc(O)c(Cn2c(NC3CCNCC3)nc3ccc(CO)cc32)n1   \n",
       "\n",
       "                                               FullR  \\\n",
       "0      OC1CN(Cc2ccccc2)CC1O>[Pd].[H][H].CO>OC1CNCC1O   \n",
       "1  c1ccc(CN2CCC3(CC2)Cc2ccccc2O3)cc1>[Pd].[H][H]....   \n",
       "2  OC1C2COCC1CN(Cc1ccccc1)C2>[OH-].[OH-].[Pd+2].[...   \n",
       "3        OC1CCN(Cc2ccccc2)C1>[Pd].[H][H].CO>OC1CCNC1   \n",
       "4  Cc1ccc(O)c(Cn2c(NC3CCN(Cc4ccccc4)CC3)nc3ccc(CO...   \n",
       "\n",
       "                                          Precursors  \n",
       "0                OC1CN(Cc2ccccc2)CC1O>[Pd].[H][H].CO  \n",
       "1  c1ccc(CN2CCC3(CC2)Cc2ccccc2O3)cc1>[Pd].[H][H]....  \n",
       "2  OC1C2COCC1CN(Cc1ccccc1)C2>[OH-].[OH-].[Pd+2].[...  \n",
       "3                 OC1CCN(Cc2ccccc2)C1>[Pd].[H][H].CO  \n",
       "4  Cc1ccc(O)c(Cn2c(NC3CCN(Cc4ccccc4)CC3)nc3ccc(CO...  "
      ]
     },
     "execution_count": 24,
     "metadata": {},
     "output_type": "execute_result"
    }
   ],
   "source": [
    "data.head()"
   ]
  },
  {
   "cell_type": "code",
   "execution_count": 21,
   "id": "ac3ac00c-bb99-484a-8b27-c3cd220bd7d5",
   "metadata": {},
   "outputs": [],
   "source": [
    "pr_predictor_base = MTProductPredictor(model_path=\"experiments/trained_models/MIT_separated_model_step_220000.pt\",\n",
    "                                       tokenized_path=\"data/test/src-test-products-base.txt\", \n",
    "                                       output_path=\"experiments/results/test-products-base.txt\",\n",
    "                                       beam_size=5,\n",
    "                                       gpu=0)\n",
    "\n",
    "pr_predictor_new = MTProductPredictor(model_path=\"experiments/trained_models/MIT_separated_reags_top1_model_step_220000.pt\",\n",
    "                                      tokenized_path=\"data/test/src-test-products-new.txt\", \n",
    "                                      output_path=\"experiments/results/test-products-new.txt\",\n",
    "                                      beam_size=5,\n",
    "                                      gpu=0)\n",
    "\n",
    "pr_predictor_mix = MTProductPredictor(model_path=\"experiments/trained_models/MIT_separated_reags_top1_and_rdkit_model_step_220000.pt\",\n",
    "                                      tokenized_path=\"data/test/src-test-products-mix.txt\", \n",
    "                                      output_path=\"experiments/results/test-products-mix.txt\",\n",
    "                                      beam_size=5,\n",
    "                                      gpu=0)"
   ]
  },
  {
   "cell_type": "code",
   "execution_count": 25,
   "id": "d41a03dc-b6ad-4302-9eaf-7a87624f20a1",
   "metadata": {},
   "outputs": [],
   "source": [
    "%%time\n",
    "pr_predictor_base.predict(data.Precursors)"
   ]
  },
  {
   "cell_type": "code",
   "execution_count": 26,
   "id": "b35c5f06-b2dc-414a-aaba-ad444e5b13c8",
   "metadata": {},
   "outputs": [
    {
     "name": "stdout",
     "output_type": "stream",
     "text": [
      "CPU times: user 1.92 s, sys: 64.3 ms, total: 1.98 s\n",
      "Wall time: 44min 12s\n"
     ]
    }
   ],
   "source": [
    "%%time\n",
    "pr_predictor_new.predict(data.Precursors)"
   ]
  },
  {
   "cell_type": "code",
   "execution_count": 27,
   "id": "dd15d795-bf3a-40b4-85b3-32b1e8004d39",
   "metadata": {},
   "outputs": [
    {
     "name": "stdout",
     "output_type": "stream",
     "text": [
      "CPU times: user 1.92 s, sys: 56.3 ms, total: 1.97 s\n",
      "Wall time: 44min 1s\n"
     ]
    }
   ],
   "source": [
    "%%time\n",
    "pr_predictor_mix.predict(data.Precursors)"
   ]
  },
  {
   "cell_type": "code",
   "execution_count": 28,
   "id": "6a132ac3-4353-43e4-a6b2-c4473b428c67",
   "metadata": {},
   "outputs": [],
   "source": [
    "pr_predictor_base.load_predictions()\n",
    "pred_products_base = pr_predictor_base.predictions"
   ]
  },
  {
   "cell_type": "code",
   "execution_count": 31,
   "id": "ff59d2a9-d666-489b-97a5-da8eb566e804",
   "metadata": {},
   "outputs": [
    {
     "name": "stdout",
     "output_type": "stream",
     "text": [
      "Base: Product prediction accuracy\n"
     ]
    },
    {
     "data": {
      "text/plain": [
       "prod_base_top1_match    0.565618\n",
       "prod_base_top2_match    0.609881\n",
       "prod_base_top3_match    0.633892\n",
       "prod_base_top4_match    0.646614\n",
       "prod_base_top5_match    0.653000\n",
       "dtype: float64"
      ]
     },
     "execution_count": 31,
     "metadata": {},
     "output_type": "execute_result"
    }
   ],
   "source": [
    "data[\"prod_base_top1_match\"] = data[\"Products\"].values == pred_products_base[\"p_products_1\"]\n",
    "for i in range(1, pr_predictor_base.beam_size):\n",
    "    data[f\"prod_base_top{i + 1}_match\"] = data[f\"prod_base_top{i}_match\"] | (data[\"Products\"].values == pred_products_base[f\"p_products_{i + 1}\"])\n",
    "print(\"Base: Product prediction accuracy\")\n",
    "data[[f\"prod_base_top{i + 1}_match\" for i in range(pr_predictor_base.beam_size)]].mean(axis=0)"
   ]
  },
  {
   "cell_type": "code",
   "execution_count": 33,
   "id": "e1ff274b-637a-46a4-bd41-4f4d0a70591c",
   "metadata": {},
   "outputs": [],
   "source": [
    "pr_predictor_new.load_predictions()\n",
    "pred_products_new = pr_predictor_new.predictions"
   ]
  },
  {
   "cell_type": "code",
   "execution_count": 34,
   "id": "8dc8feea-8420-4879-a3c9-55d81333a285",
   "metadata": {},
   "outputs": [
    {
     "name": "stdout",
     "output_type": "stream",
     "text": [
      "New: Product prediction accuracy\n"
     ]
    },
    {
     "data": {
      "text/plain": [
       "prod_new_top1_match    0.588160\n",
       "prod_new_top2_match    0.626248\n",
       "prod_new_top3_match    0.643316\n",
       "prod_new_top4_match    0.653130\n",
       "prod_new_top5_match    0.657903\n",
       "dtype: float64"
      ]
     },
     "execution_count": 34,
     "metadata": {},
     "output_type": "execute_result"
    }
   ],
   "source": [
    "data[\"prod_new_top1_match\"] = data[\"Products\"].values == pred_products_new[\"p_products_1\"]\n",
    "for i in range(1, pr_predictor_new.beam_size):\n",
    "    data[f\"prod_new_top{i + 1}_match\"] = data[f\"prod_new_top{i}_match\"] | (data[\"Products\"].values == pred_products_new[f\"p_products_{i + 1}\"])\n",
    "print(\"New: Product prediction accuracy\")\n",
    "data[[f\"prod_new_top{i + 1}_match\" for i in range(pr_predictor_new.beam_size)]].mean(axis=0)"
   ]
  },
  {
   "cell_type": "code",
   "execution_count": 35,
   "id": "ded34217-e790-47c5-873a-f0541ba4349b",
   "metadata": {},
   "outputs": [],
   "source": [
    "pr_predictor_mix.load_predictions()\n",
    "pred_products_mix = pr_predictor_mix.predictions"
   ]
  },
  {
   "cell_type": "code",
   "execution_count": 36,
   "id": "818c485c-a44d-4908-a530-213659472620",
   "metadata": {},
   "outputs": [
    {
     "name": "stdout",
     "output_type": "stream",
     "text": [
      "Mix: Product prediction accuracy\n"
     ]
    },
    {
     "data": {
      "text/plain": [
       "prod_mix_top1_match    0.605342\n",
       "prod_mix_top2_match    0.643945\n",
       "prod_mix_top3_match    0.664369\n",
       "prod_mix_top4_match    0.676093\n",
       "prod_mix_top5_match    0.682161\n",
       "dtype: float64"
      ]
     },
     "execution_count": 36,
     "metadata": {},
     "output_type": "execute_result"
    }
   ],
   "source": [
    "data[\"prod_mix_top1_match\"] = data[\"Products\"].values == pred_products_mix[\"p_products_1\"]\n",
    "for i in range(1, pr_predictor_mix.beam_size):\n",
    "    data[f\"prod_mix_top{i + 1}_match\"] = data[f\"prod_mix_top{i}_match\"] | (data[\"Products\"].values == pred_products_mix[f\"p_products_{i + 1}\"])\n",
    "print(\"Mix: Product prediction accuracy\")\n",
    "data[[f\"prod_mix_top{i + 1}_match\" for i in range(pr_predictor_mix.beam_size)]].mean(axis=0)"
   ]
  },
  {
   "cell_type": "code",
   "execution_count": 39,
   "id": "4d687b1b-85c6-4c01-85c1-740f355975c7",
   "metadata": {},
   "outputs": [],
   "source": [
    "base = data[[f\"prod_base_top{i + 1}_match\" for i in range(pr_predictor_base.beam_size)]].mean(axis=0).values\n",
    "new = data[[f\"prod_new_top{i + 1}_match\" for i in range(pr_predictor_new.beam_size)]].mean(axis=0).values\n",
    "mix = data[[f\"prod_mix_top{i + 1}_match\" for i in range(pr_predictor_mix.beam_size)]].mean(axis=0).values"
   ]
  },
  {
   "cell_type": "code",
   "execution_count": 73,
   "id": "b871a89d-a0ad-4dc0-a87a-dfc8553ac9cb",
   "metadata": {},
   "outputs": [
    {
     "data": {
      "text/plain": [
       "0.6648248329331443"
      ]
     },
     "execution_count": 73,
     "metadata": {},
     "output_type": "execute_result"
    }
   ],
   "source": [
    "(pred_products_base[\"p_products_1\"] == pred_products_mix[\"p_products_1\"]).mean()"
   ]
  },
  {
   "cell_type": "code",
   "execution_count": 97,
   "id": "bbbdfa3e-3a47-4eb8-b54f-e92aace99316",
   "metadata": {},
   "outputs": [
    {
     "name": "stdout",
     "output_type": "stream",
     "text": [
      "Number of examples where one model gets the answer\n",
      "right in top-5 and the other does not.\n"
     ]
    },
    {
     "data": {
      "text/html": [
       "<style type=\"text/css\">\n",
       "#T_eefbc_row0_col0, #T_eefbc_row1_col1, #T_eefbc_row2_col2 {\n",
       "  background-color: #f7fbff;\n",
       "  color: #000000;\n",
       "}\n",
       "#T_eefbc_row0_col1 {\n",
       "  background-color: #1460a8;\n",
       "  color: #f1f1f1;\n",
       "}\n",
       "#T_eefbc_row0_col2 {\n",
       "  background-color: #4a98c9;\n",
       "  color: #f1f1f1;\n",
       "}\n",
       "#T_eefbc_row1_col0 {\n",
       "  background-color: #084f99;\n",
       "  color: #f1f1f1;\n",
       "}\n",
       "#T_eefbc_row1_col2 {\n",
       "  background-color: #91c3de;\n",
       "  color: #000000;\n",
       "}\n",
       "#T_eefbc_row2_col0 {\n",
       "  background-color: #08306b;\n",
       "  color: #f1f1f1;\n",
       "}\n",
       "#T_eefbc_row2_col1 {\n",
       "  background-color: #2272b6;\n",
       "  color: #f1f1f1;\n",
       "}\n",
       "</style>\n",
       "<table id=\"T_eefbc_\">\n",
       "  <thead>\n",
       "    <tr>\n",
       "      <th class=\"blank level0\" >&nbsp;</th>\n",
       "      <th class=\"col_heading level0 col0\" >base_fail</th>\n",
       "      <th class=\"col_heading level0 col1\" >new_fail</th>\n",
       "      <th class=\"col_heading level0 col2\" >mix_fail</th>\n",
       "    </tr>\n",
       "  </thead>\n",
       "  <tbody>\n",
       "    <tr>\n",
       "      <th id=\"T_eefbc_level0_row0\" class=\"row_heading level0 row0\" >base_hit</th>\n",
       "      <td id=\"T_eefbc_row0_col0\" class=\"data row0 col0\" >0</td>\n",
       "      <td id=\"T_eefbc_row0_col1\" class=\"data row0 col1\" >8152</td>\n",
       "      <td id=\"T_eefbc_row0_col2\" class=\"data row0 col2\" >5996</td>\n",
       "    </tr>\n",
       "    <tr>\n",
       "      <th id=\"T_eefbc_level0_row1\" class=\"row_heading level0 row1\" >new_hit</th>\n",
       "      <td id=\"T_eefbc_row1_col0\" class=\"data row1 col0\" >8830</td>\n",
       "      <td id=\"T_eefbc_row1_col1\" class=\"data row1 col1\" >0</td>\n",
       "      <td id=\"T_eefbc_row1_col2\" class=\"data row1 col2\" >4096</td>\n",
       "    </tr>\n",
       "    <tr>\n",
       "      <th id=\"T_eefbc_level0_row2\" class=\"row_heading level0 row2\" >mix_hit</th>\n",
       "      <td id=\"T_eefbc_row2_col0\" class=\"data row2 col0\" >10028</td>\n",
       "      <td id=\"T_eefbc_row2_col1\" class=\"data row2 col1\" >7450</td>\n",
       "      <td id=\"T_eefbc_row2_col2\" class=\"data row2 col2\" >0</td>\n",
       "    </tr>\n",
       "  </tbody>\n",
       "</table>\n"
      ],
      "text/plain": [
       "<pandas.io.formats.style.Styler at 0x7f1af766d410>"
      ]
     },
     "execution_count": 97,
     "metadata": {},
     "output_type": "execute_result"
    }
   ],
   "source": [
    "cases = [\"base\", \"new\", \"mix\"]\n",
    "_table = pd.DataFrame(np.ones((3, 3), dtype=int))\n",
    "_table.columns = [i + \"_fail\" for i in cases]\n",
    "_table.index = [i + \"_hit\" for i in cases]\n",
    "for i in cases:\n",
    "    for j in cases:\n",
    "        _table.loc[f\"{i}_hit\", f\"{j}_fail\"] = data[data[f\"prod_{i}_top5_match\"] & ~data[f\"prod_{j}_top5_match\"]].shape[0]\n",
    "print(\"Number of examples where one model gets the answer\\nright in top-5 and the other does not.\")\n",
    "_table.style.background_gradient(cmap='Blues', axis=None)"
   ]
  },
  {
   "cell_type": "code",
   "execution_count": 67,
   "id": "aa6f251a-abbb-4c72-a935-aeca62f5de48",
   "metadata": {},
   "outputs": [
    {
     "data": {
      "image/png": "[encoded data removed]",
      "text/plain": [
       "<Figure size 936x936 with 1 Axes>"
      ]
     },
     "metadata": {
      "needs_background": "light"
     },
     "output_type": "display_data"
    }
   ],
   "source": [
    "plt.figure(figsize=(13, 13))\n",
    "plt.bar(np.arange(1, 6) - 0.2, base, width=0.2, align='center', color='red', label=\"Base USPTO reagents\")\n",
    "plt.bar(np.arange(1, 6), new, width=0.2, align='center', color='orange', label=\"All reagents replaced\")\n",
    "plt.bar(np.arange(1, 6) + 0.2, mix, width=0.2, align='center', color='green', label=\"Replaced reagents with SMILES shorter than prediction\")\n",
    "plt.grid(axis='y')\n",
    "plt.gca().set_xticklabels([None, \"Top-1\", \"Top-2\", \"Top-3\", \"Top-4\", \"Top-5\"])\n",
    "plt.ylabel(\"Exact string match rate\")\n",
    "plt.xlabel(\"Top-N poduct prediction\")\n",
    "plt.legend()\n",
    "plt.title(\"Comparative performance of MT on Reaxys trained on USPTO with different reagent strategies\")\n",
    "plt.tight_layout()\n",
    "plt.savefig(\"product_prediction_performance.png\")\n",
    "plt.show()"
   ]
  },
  {
   "cell_type": "code",
   "execution_count": null,
   "id": "ad1dc3ac-93d0-4e8b-b0ac-a7ecc2ffc079",
   "metadata": {},
   "outputs": [],
   "source": []
  }
 ],
 "metadata": {
  "kernelspec": {
   "display_name": "Python 3 (ipykernel)",
   "language": "python",
   "name": "python3"
  },
  "language_info": {
   "codemirror_mode": {
    "name": "ipython",
    "version": 3
   },
   "file_extension": ".py",
   "mimetype": "text/x-python",
   "name": "python",
   "nbconvert_exporter": "python",
   "pygments_lexer": "ipython3",
   "version": "3.7.13"
  }
 },
 "nbformat": 4,
 "nbformat_minor": 5
}
